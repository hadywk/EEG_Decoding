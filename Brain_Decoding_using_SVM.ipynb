{
  "cells": [
    {
      "cell_type": "code",
      "execution_count": null,
      "metadata": {
        "colab": {
          "base_uri": "https://localhost:8080/"
        },
        "id": "YOvmetITsNdN",
        "outputId": "18713419-e6b3-4a02-fb0e-c9b38b622516"
      },
      "outputs": [
        {
          "output_type": "stream",
          "name": "stdout",
          "text": [
            "Mounted at /content/gdrive/\n"
          ]
        }
      ],
      "source": [
        "# Modules\n",
        "from matplotlib.image import imread\n",
        "import numpy as np # linear algebra\n",
        "import pandas as pd # data processing, CSV file I/O (e.g. pd.read_csv)\n",
        "import matplotlib.pyplot as plt # for data visualization\n",
        "import seaborn as sns # for statistical data visualization\n",
        "%matplotlib inline\n",
        "\n",
        "\n",
        "from warnings import filterwarnings\n",
        "\n",
        "\n",
        "from google.colab import drive\n",
        "import warnings\n",
        "\n",
        "warnings.filterwarnings('ignore')\n",
        "drive.mount('/content/gdrive/', force_remount=True)"
      ]
    },
    {
      "cell_type": "code",
      "execution_count": null,
      "metadata": {
        "colab": {
          "base_uri": "https://localhost:8080/",
          "height": 270
        },
        "id": "Q_VFSsrS9Xtk",
        "outputId": "75b0ef6d-08fd-4a56-eebf-ecaf0573a596"
      },
      "outputs": [
        {
          "output_type": "execute_result",
          "data": {
            "text/plain": [
              "         Pz        P3        P7        O1        Oz        O2        P4  \\\n",
              "0  0.949867 -0.412790 -0.322089  0.751464  1.817943  1.433026  0.689987   \n",
              "1 -1.438008 -0.619738 -1.026245 -0.856272 -0.683106 -0.478521  0.074579   \n",
              "2 -1.473790 -0.968607 -1.147936  0.967766  0.324674  0.510022  0.345058   \n",
              "3 -0.172934  1.165387  1.207597  1.366681  0.932849  0.162062 -0.569059   \n",
              "4  0.367294  0.017011 -1.681696 -0.910858 -0.515992 -0.315080  0.925285   \n",
              "\n",
              "         P8        P1        P5       PO7       PO3       POz       PO4  \\\n",
              "0 -1.054576 -0.381360 -0.237432  0.610876  0.807887 -0.387744  0.836812   \n",
              "1 -1.367111 -0.474807 -0.182218 -0.561408 -1.596942 -1.876672  0.168698   \n",
              "2 -0.929844 -0.844814 -0.824933 -0.936504 -0.546616 -0.033366  0.165388   \n",
              "3 -0.857833  0.891493  1.323472  0.894634  0.554903 -0.872456 -0.683542   \n",
              "4 -0.210909  0.425723  0.070810 -1.161866  1.156145 -0.034877  0.933107   \n",
              "\n",
              "        PO8        P6        P2    label  \n",
              "0  0.031605  0.180892  0.713202  Biscuit  \n",
              "1 -0.243984  0.033856 -1.331574  Biscuit  \n",
              "2 -0.772637 -0.966099  0.024178  Biscuit  \n",
              "3 -0.588627 -2.013185 -1.028050  Biscuit  \n",
              "4 -0.123902  1.200219  0.547526  Biscuit  "
            ],
            "text/html": [
              "\n",
              "  <div id=\"df-5a8f7288-5b17-4bef-bb7f-36ff98cb39d0\">\n",
              "    <div class=\"colab-df-container\">\n",
              "      <div>\n",
              "<style scoped>\n",
              "    .dataframe tbody tr th:only-of-type {\n",
              "        vertical-align: middle;\n",
              "    }\n",
              "\n",
              "    .dataframe tbody tr th {\n",
              "        vertical-align: top;\n",
              "    }\n",
              "\n",
              "    .dataframe thead th {\n",
              "        text-align: right;\n",
              "    }\n",
              "</style>\n",
              "<table border=\"1\" class=\"dataframe\">\n",
              "  <thead>\n",
              "    <tr style=\"text-align: right;\">\n",
              "      <th></th>\n",
              "      <th>Pz</th>\n",
              "      <th>P3</th>\n",
              "      <th>P7</th>\n",
              "      <th>O1</th>\n",
              "      <th>Oz</th>\n",
              "      <th>O2</th>\n",
              "      <th>P4</th>\n",
              "      <th>P8</th>\n",
              "      <th>P1</th>\n",
              "      <th>P5</th>\n",
              "      <th>PO7</th>\n",
              "      <th>PO3</th>\n",
              "      <th>POz</th>\n",
              "      <th>PO4</th>\n",
              "      <th>PO8</th>\n",
              "      <th>P6</th>\n",
              "      <th>P2</th>\n",
              "      <th>label</th>\n",
              "    </tr>\n",
              "  </thead>\n",
              "  <tbody>\n",
              "    <tr>\n",
              "      <th>0</th>\n",
              "      <td>0.949867</td>\n",
              "      <td>-0.412790</td>\n",
              "      <td>-0.322089</td>\n",
              "      <td>0.751464</td>\n",
              "      <td>1.817943</td>\n",
              "      <td>1.433026</td>\n",
              "      <td>0.689987</td>\n",
              "      <td>-1.054576</td>\n",
              "      <td>-0.381360</td>\n",
              "      <td>-0.237432</td>\n",
              "      <td>0.610876</td>\n",
              "      <td>0.807887</td>\n",
              "      <td>-0.387744</td>\n",
              "      <td>0.836812</td>\n",
              "      <td>0.031605</td>\n",
              "      <td>0.180892</td>\n",
              "      <td>0.713202</td>\n",
              "      <td>Biscuit</td>\n",
              "    </tr>\n",
              "    <tr>\n",
              "      <th>1</th>\n",
              "      <td>-1.438008</td>\n",
              "      <td>-0.619738</td>\n",
              "      <td>-1.026245</td>\n",
              "      <td>-0.856272</td>\n",
              "      <td>-0.683106</td>\n",
              "      <td>-0.478521</td>\n",
              "      <td>0.074579</td>\n",
              "      <td>-1.367111</td>\n",
              "      <td>-0.474807</td>\n",
              "      <td>-0.182218</td>\n",
              "      <td>-0.561408</td>\n",
              "      <td>-1.596942</td>\n",
              "      <td>-1.876672</td>\n",
              "      <td>0.168698</td>\n",
              "      <td>-0.243984</td>\n",
              "      <td>0.033856</td>\n",
              "      <td>-1.331574</td>\n",
              "      <td>Biscuit</td>\n",
              "    </tr>\n",
              "    <tr>\n",
              "      <th>2</th>\n",
              "      <td>-1.473790</td>\n",
              "      <td>-0.968607</td>\n",
              "      <td>-1.147936</td>\n",
              "      <td>0.967766</td>\n",
              "      <td>0.324674</td>\n",
              "      <td>0.510022</td>\n",
              "      <td>0.345058</td>\n",
              "      <td>-0.929844</td>\n",
              "      <td>-0.844814</td>\n",
              "      <td>-0.824933</td>\n",
              "      <td>-0.936504</td>\n",
              "      <td>-0.546616</td>\n",
              "      <td>-0.033366</td>\n",
              "      <td>0.165388</td>\n",
              "      <td>-0.772637</td>\n",
              "      <td>-0.966099</td>\n",
              "      <td>0.024178</td>\n",
              "      <td>Biscuit</td>\n",
              "    </tr>\n",
              "    <tr>\n",
              "      <th>3</th>\n",
              "      <td>-0.172934</td>\n",
              "      <td>1.165387</td>\n",
              "      <td>1.207597</td>\n",
              "      <td>1.366681</td>\n",
              "      <td>0.932849</td>\n",
              "      <td>0.162062</td>\n",
              "      <td>-0.569059</td>\n",
              "      <td>-0.857833</td>\n",
              "      <td>0.891493</td>\n",
              "      <td>1.323472</td>\n",
              "      <td>0.894634</td>\n",
              "      <td>0.554903</td>\n",
              "      <td>-0.872456</td>\n",
              "      <td>-0.683542</td>\n",
              "      <td>-0.588627</td>\n",
              "      <td>-2.013185</td>\n",
              "      <td>-1.028050</td>\n",
              "      <td>Biscuit</td>\n",
              "    </tr>\n",
              "    <tr>\n",
              "      <th>4</th>\n",
              "      <td>0.367294</td>\n",
              "      <td>0.017011</td>\n",
              "      <td>-1.681696</td>\n",
              "      <td>-0.910858</td>\n",
              "      <td>-0.515992</td>\n",
              "      <td>-0.315080</td>\n",
              "      <td>0.925285</td>\n",
              "      <td>-0.210909</td>\n",
              "      <td>0.425723</td>\n",
              "      <td>0.070810</td>\n",
              "      <td>-1.161866</td>\n",
              "      <td>1.156145</td>\n",
              "      <td>-0.034877</td>\n",
              "      <td>0.933107</td>\n",
              "      <td>-0.123902</td>\n",
              "      <td>1.200219</td>\n",
              "      <td>0.547526</td>\n",
              "      <td>Biscuit</td>\n",
              "    </tr>\n",
              "  </tbody>\n",
              "</table>\n",
              "</div>\n",
              "      <button class=\"colab-df-convert\" onclick=\"convertToInteractive('df-5a8f7288-5b17-4bef-bb7f-36ff98cb39d0')\"\n",
              "              title=\"Convert this dataframe to an interactive table.\"\n",
              "              style=\"display:none;\">\n",
              "        \n",
              "  <svg xmlns=\"http://www.w3.org/2000/svg\" height=\"24px\"viewBox=\"0 0 24 24\"\n",
              "       width=\"24px\">\n",
              "    <path d=\"M0 0h24v24H0V0z\" fill=\"none\"/>\n",
              "    <path d=\"M18.56 5.44l.94 2.06.94-2.06 2.06-.94-2.06-.94-.94-2.06-.94 2.06-2.06.94zm-11 1L8.5 8.5l.94-2.06 2.06-.94-2.06-.94L8.5 2.5l-.94 2.06-2.06.94zm10 10l.94 2.06.94-2.06 2.06-.94-2.06-.94-.94-2.06-.94 2.06-2.06.94z\"/><path d=\"M17.41 7.96l-1.37-1.37c-.4-.4-.92-.59-1.43-.59-.52 0-1.04.2-1.43.59L10.3 9.45l-7.72 7.72c-.78.78-.78 2.05 0 2.83L4 21.41c.39.39.9.59 1.41.59.51 0 1.02-.2 1.41-.59l7.78-7.78 2.81-2.81c.8-.78.8-2.07 0-2.86zM5.41 20L4 18.59l7.72-7.72 1.47 1.35L5.41 20z\"/>\n",
              "  </svg>\n",
              "      </button>\n",
              "      \n",
              "  <style>\n",
              "    .colab-df-container {\n",
              "      display:flex;\n",
              "      flex-wrap:wrap;\n",
              "      gap: 12px;\n",
              "    }\n",
              "\n",
              "    .colab-df-convert {\n",
              "      background-color: #E8F0FE;\n",
              "      border: none;\n",
              "      border-radius: 50%;\n",
              "      cursor: pointer;\n",
              "      display: none;\n",
              "      fill: #1967D2;\n",
              "      height: 32px;\n",
              "      padding: 0 0 0 0;\n",
              "      width: 32px;\n",
              "    }\n",
              "\n",
              "    .colab-df-convert:hover {\n",
              "      background-color: #E2EBFA;\n",
              "      box-shadow: 0px 1px 2px rgba(60, 64, 67, 0.3), 0px 1px 3px 1px rgba(60, 64, 67, 0.15);\n",
              "      fill: #174EA6;\n",
              "    }\n",
              "\n",
              "    [theme=dark] .colab-df-convert {\n",
              "      background-color: #3B4455;\n",
              "      fill: #D2E3FC;\n",
              "    }\n",
              "\n",
              "    [theme=dark] .colab-df-convert:hover {\n",
              "      background-color: #434B5C;\n",
              "      box-shadow: 0px 1px 3px 1px rgba(0, 0, 0, 0.15);\n",
              "      filter: drop-shadow(0px 1px 2px rgba(0, 0, 0, 0.3));\n",
              "      fill: #FFFFFF;\n",
              "    }\n",
              "  </style>\n",
              "\n",
              "      <script>\n",
              "        const buttonEl =\n",
              "          document.querySelector('#df-5a8f7288-5b17-4bef-bb7f-36ff98cb39d0 button.colab-df-convert');\n",
              "        buttonEl.style.display =\n",
              "          google.colab.kernel.accessAllowed ? 'block' : 'none';\n",
              "\n",
              "        async function convertToInteractive(key) {\n",
              "          const element = document.querySelector('#df-5a8f7288-5b17-4bef-bb7f-36ff98cb39d0');\n",
              "          const dataTable =\n",
              "            await google.colab.kernel.invokeFunction('convertToInteractive',\n",
              "                                                     [key], {});\n",
              "          if (!dataTable) return;\n",
              "\n",
              "          const docLinkHtml = 'Like what you see? Visit the ' +\n",
              "            '<a target=\"_blank\" href=https://colab.research.google.com/notebooks/data_table.ipynb>data table notebook</a>'\n",
              "            + ' to learn more about interactive tables.';\n",
              "          element.innerHTML = '';\n",
              "          dataTable['output_type'] = 'display_data';\n",
              "          await google.colab.output.renderOutput(dataTable, element);\n",
              "          const docLink = document.createElement('div');\n",
              "          docLink.innerHTML = docLinkHtml;\n",
              "          element.appendChild(docLink);\n",
              "        }\n",
              "      </script>\n",
              "    </div>\n",
              "  </div>\n",
              "  "
            ]
          },
          "metadata": {},
          "execution_count": 7
        }
      ],
      "source": [
        "\n",
        "# Import the data\n",
        "df = pd.read_csv(\"/content/gdrive/MyDrive/data_eeg_in_csv.csv\")\n",
        "\n",
        "df.head()\n"
      ]
    },
    {
      "cell_type": "code",
      "source": [
        "df.shape\n",
        "#519 row, 18 columns "
      ],
      "metadata": {
        "colab": {
          "base_uri": "https://localhost:8080/"
        },
        "id": "UoFc3iuRZUtb",
        "outputId": "bdd737b7-e5d4-41b9-c41a-db1d9a0d7553"
      },
      "execution_count": null,
      "outputs": [
        {
          "output_type": "execute_result",
          "data": {
            "text/plain": [
              "(519, 18)"
            ]
          },
          "metadata": {},
          "execution_count": 9
        }
      ]
    },
    {
      "cell_type": "code",
      "source": [
        "col_names = df.columns\n",
        "\n",
        "col_names"
      ],
      "metadata": {
        "colab": {
          "base_uri": "https://localhost:8080/"
        },
        "id": "vPVYfGelZaWU",
        "outputId": "86125c67-9b71-4b21-b00a-78528fda3842"
      },
      "execution_count": null,
      "outputs": [
        {
          "output_type": "execute_result",
          "data": {
            "text/plain": [
              "Index(['Pz', 'P3', 'P7', 'O1', 'Oz', 'O2', 'P4', 'P8', 'P1', 'P5', 'PO7',\n",
              "       'PO3', 'POz', 'PO4', 'PO8', 'P6', 'P2', 'label'],\n",
              "      dtype='object')"
            ]
          },
          "metadata": {},
          "execution_count": 10
        }
      ]
    },
    {
      "cell_type": "code",
      "source": [
        "# check distribution of target_class column\n",
        "df['label'].value_counts()"
      ],
      "metadata": {
        "colab": {
          "base_uri": "https://localhost:8080/"
        },
        "id": "GD3Cr9ICZ1Lo",
        "outputId": "5dd631f9-d803-4014-b73e-76f03013e540"
      },
      "execution_count": null,
      "outputs": [
        {
          "output_type": "execute_result",
          "data": {
            "text/plain": [
              "Biscuit      40\n",
              "Bed          40\n",
              "Drink        40\n",
              "Toilet       40\n",
              "Spaghetti    40\n",
              "Steak        40\n",
              "Cot          40\n",
              "Sofabed      40\n",
              "Pillow       40\n",
              "Smoothie     40\n",
              "Soda         40\n",
              "Shower       40\n",
              "Tomato       39\n",
              "Name: label, dtype: int64"
            ]
          },
          "metadata": {},
          "execution_count": 15
        }
      ]
    },
    {
      "cell_type": "code",
      "source": [
        "# view the percentage distribution of target_class column\n",
        "df['label'].value_counts()/np.float(len(df))"
      ],
      "metadata": {
        "colab": {
          "base_uri": "https://localhost:8080/"
        },
        "id": "mhFqFmLnaSk_",
        "outputId": "89b3b370-1ea1-4a2b-cda3-8c4ec9406f1f"
      },
      "execution_count": null,
      "outputs": [
        {
          "output_type": "execute_result",
          "data": {
            "text/plain": [
              "Biscuit      0.077071\n",
              "Bed          0.077071\n",
              "Drink        0.077071\n",
              "Toilet       0.077071\n",
              "Spaghetti    0.077071\n",
              "Steak        0.077071\n",
              "Cot          0.077071\n",
              "Sofabed      0.077071\n",
              "Pillow       0.077071\n",
              "Smoothie     0.077071\n",
              "Soda         0.077071\n",
              "Shower       0.077071\n",
              "Tomato       0.075145\n",
              "Name: label, dtype: float64"
            ]
          },
          "metadata": {},
          "execution_count": 16
        }
      ]
    },
    {
      "cell_type": "code",
      "source": [
        "df.info()"
      ],
      "metadata": {
        "colab": {
          "base_uri": "https://localhost:8080/"
        },
        "id": "1TaRq5KTaWON",
        "outputId": "60de605d-15ff-4e2f-d764-ec4952a5dc9a"
      },
      "execution_count": null,
      "outputs": [
        {
          "output_type": "stream",
          "name": "stdout",
          "text": [
            "<class 'pandas.core.frame.DataFrame'>\n",
            "RangeIndex: 519 entries, 0 to 518\n",
            "Data columns (total 18 columns):\n",
            " #   Column  Non-Null Count  Dtype  \n",
            "---  ------  --------------  -----  \n",
            " 0   Pz      519 non-null    float64\n",
            " 1   P3      519 non-null    float64\n",
            " 2   P7      519 non-null    float64\n",
            " 3   O1      519 non-null    float64\n",
            " 4   Oz      519 non-null    float64\n",
            " 5   O2      519 non-null    float64\n",
            " 6   P4      519 non-null    float64\n",
            " 7   P8      519 non-null    float64\n",
            " 8   P1      519 non-null    float64\n",
            " 9   P5      519 non-null    float64\n",
            " 10  PO7     519 non-null    float64\n",
            " 11  PO3     519 non-null    float64\n",
            " 12  POz     519 non-null    float64\n",
            " 13  PO4     519 non-null    float64\n",
            " 14  PO8     519 non-null    float64\n",
            " 15  P6      519 non-null    float64\n",
            " 16  P2      519 non-null    float64\n",
            " 17  label   519 non-null    object \n",
            "dtypes: float64(17), object(1)\n",
            "memory usage: 73.1+ KB\n"
          ]
        }
      ]
    },
    {
      "cell_type": "code",
      "source": [
        "# check for missing values in variables\n",
        "df.isnull().sum()"
      ],
      "metadata": {
        "colab": {
          "base_uri": "https://localhost:8080/"
        },
        "id": "WjSinzQSaYtb",
        "outputId": "b9add72b-6595-4128-beb5-818712b34801"
      },
      "execution_count": null,
      "outputs": [
        {
          "output_type": "execute_result",
          "data": {
            "text/plain": [
              "Pz       0\n",
              "P3       0\n",
              "P7       0\n",
              "O1       0\n",
              "Oz       0\n",
              "O2       0\n",
              "P4       0\n",
              "P8       0\n",
              "P1       0\n",
              "P5       0\n",
              "PO7      0\n",
              "PO3      0\n",
              "POz      0\n",
              "PO4      0\n",
              "PO8      0\n",
              "P6       0\n",
              "P2       0\n",
              "label    0\n",
              "dtype: int64"
            ]
          },
          "metadata": {},
          "execution_count": 18
        }
      ]
    },
    {
      "cell_type": "code",
      "source": [
        "# view summary statistics in numerical variables\n",
        "\n",
        "round(df.describe(),2)"
      ],
      "metadata": {
        "colab": {
          "base_uri": "https://localhost:8080/",
          "height": 364
        },
        "id": "k4_GOUZZabZb",
        "outputId": "6c46242f-ef21-4ff2-f9e3-d8f2f1088c55"
      },
      "execution_count": null,
      "outputs": [
        {
          "output_type": "execute_result",
          "data": {
            "text/plain": [
              "           Pz      P3      P7      O1      Oz      O2      P4      P8      P1  \\\n",
              "count  519.00  519.00  519.00  519.00  519.00  519.00  519.00  519.00  519.00   \n",
              "mean     0.19   -0.12   -0.28   -0.20    0.06    0.03   -0.00   -0.16    0.04   \n",
              "std      1.08    0.90    1.33    0.95    0.95    0.95    0.79    1.06    0.92   \n",
              "min     -3.23   -4.07  -18.80   -4.99   -3.74   -4.27   -2.88   -4.50   -3.68   \n",
              "25%     -0.48   -0.66   -0.45   -0.80   -0.55   -0.57   -0.50   -0.76   -0.50   \n",
              "50%      0.22   -0.14   -0.08   -0.20    0.14    0.04   -0.01   -0.14    0.09   \n",
              "75%      0.90    0.48    0.12    0.40    0.67    0.59    0.52    0.46    0.63   \n",
              "max      3.20    2.82   10.25    3.13    3.80    3.12    1.79    3.57    3.03   \n",
              "\n",
              "           P5     PO7     PO3     POz     PO4     PO8      P6      P2  \n",
              "count  519.00  519.00  519.00  519.00  519.00  519.00  519.00  519.00  \n",
              "mean    -0.24   -0.32   -0.08    0.26    0.04   -0.17   -0.03    0.08  \n",
              "std      0.95    0.94    0.93    1.08    0.88    0.94    0.88    0.89  \n",
              "min     -4.58   -3.32   -3.18   -2.80   -2.92   -3.19   -2.62   -2.79  \n",
              "25%     -0.79   -0.90   -0.70   -0.48   -0.52   -0.77   -0.60   -0.47  \n",
              "50%     -0.22   -0.34   -0.05    0.20    0.00   -0.17   -0.04    0.08  \n",
              "75%      0.37    0.28    0.62    0.95    0.62    0.41    0.51    0.65  \n",
              "max      3.11    2.37    2.60    4.46    3.47    2.95    2.79    4.63  "
            ],
            "text/html": [
              "\n",
              "  <div id=\"df-d63be46e-0bc4-4702-b43f-15e4f604f1e8\">\n",
              "    <div class=\"colab-df-container\">\n",
              "      <div>\n",
              "<style scoped>\n",
              "    .dataframe tbody tr th:only-of-type {\n",
              "        vertical-align: middle;\n",
              "    }\n",
              "\n",
              "    .dataframe tbody tr th {\n",
              "        vertical-align: top;\n",
              "    }\n",
              "\n",
              "    .dataframe thead th {\n",
              "        text-align: right;\n",
              "    }\n",
              "</style>\n",
              "<table border=\"1\" class=\"dataframe\">\n",
              "  <thead>\n",
              "    <tr style=\"text-align: right;\">\n",
              "      <th></th>\n",
              "      <th>Pz</th>\n",
              "      <th>P3</th>\n",
              "      <th>P7</th>\n",
              "      <th>O1</th>\n",
              "      <th>Oz</th>\n",
              "      <th>O2</th>\n",
              "      <th>P4</th>\n",
              "      <th>P8</th>\n",
              "      <th>P1</th>\n",
              "      <th>P5</th>\n",
              "      <th>PO7</th>\n",
              "      <th>PO3</th>\n",
              "      <th>POz</th>\n",
              "      <th>PO4</th>\n",
              "      <th>PO8</th>\n",
              "      <th>P6</th>\n",
              "      <th>P2</th>\n",
              "    </tr>\n",
              "  </thead>\n",
              "  <tbody>\n",
              "    <tr>\n",
              "      <th>count</th>\n",
              "      <td>519.00</td>\n",
              "      <td>519.00</td>\n",
              "      <td>519.00</td>\n",
              "      <td>519.00</td>\n",
              "      <td>519.00</td>\n",
              "      <td>519.00</td>\n",
              "      <td>519.00</td>\n",
              "      <td>519.00</td>\n",
              "      <td>519.00</td>\n",
              "      <td>519.00</td>\n",
              "      <td>519.00</td>\n",
              "      <td>519.00</td>\n",
              "      <td>519.00</td>\n",
              "      <td>519.00</td>\n",
              "      <td>519.00</td>\n",
              "      <td>519.00</td>\n",
              "      <td>519.00</td>\n",
              "    </tr>\n",
              "    <tr>\n",
              "      <th>mean</th>\n",
              "      <td>0.19</td>\n",
              "      <td>-0.12</td>\n",
              "      <td>-0.28</td>\n",
              "      <td>-0.20</td>\n",
              "      <td>0.06</td>\n",
              "      <td>0.03</td>\n",
              "      <td>-0.00</td>\n",
              "      <td>-0.16</td>\n",
              "      <td>0.04</td>\n",
              "      <td>-0.24</td>\n",
              "      <td>-0.32</td>\n",
              "      <td>-0.08</td>\n",
              "      <td>0.26</td>\n",
              "      <td>0.04</td>\n",
              "      <td>-0.17</td>\n",
              "      <td>-0.03</td>\n",
              "      <td>0.08</td>\n",
              "    </tr>\n",
              "    <tr>\n",
              "      <th>std</th>\n",
              "      <td>1.08</td>\n",
              "      <td>0.90</td>\n",
              "      <td>1.33</td>\n",
              "      <td>0.95</td>\n",
              "      <td>0.95</td>\n",
              "      <td>0.95</td>\n",
              "      <td>0.79</td>\n",
              "      <td>1.06</td>\n",
              "      <td>0.92</td>\n",
              "      <td>0.95</td>\n",
              "      <td>0.94</td>\n",
              "      <td>0.93</td>\n",
              "      <td>1.08</td>\n",
              "      <td>0.88</td>\n",
              "      <td>0.94</td>\n",
              "      <td>0.88</td>\n",
              "      <td>0.89</td>\n",
              "    </tr>\n",
              "    <tr>\n",
              "      <th>min</th>\n",
              "      <td>-3.23</td>\n",
              "      <td>-4.07</td>\n",
              "      <td>-18.80</td>\n",
              "      <td>-4.99</td>\n",
              "      <td>-3.74</td>\n",
              "      <td>-4.27</td>\n",
              "      <td>-2.88</td>\n",
              "      <td>-4.50</td>\n",
              "      <td>-3.68</td>\n",
              "      <td>-4.58</td>\n",
              "      <td>-3.32</td>\n",
              "      <td>-3.18</td>\n",
              "      <td>-2.80</td>\n",
              "      <td>-2.92</td>\n",
              "      <td>-3.19</td>\n",
              "      <td>-2.62</td>\n",
              "      <td>-2.79</td>\n",
              "    </tr>\n",
              "    <tr>\n",
              "      <th>25%</th>\n",
              "      <td>-0.48</td>\n",
              "      <td>-0.66</td>\n",
              "      <td>-0.45</td>\n",
              "      <td>-0.80</td>\n",
              "      <td>-0.55</td>\n",
              "      <td>-0.57</td>\n",
              "      <td>-0.50</td>\n",
              "      <td>-0.76</td>\n",
              "      <td>-0.50</td>\n",
              "      <td>-0.79</td>\n",
              "      <td>-0.90</td>\n",
              "      <td>-0.70</td>\n",
              "      <td>-0.48</td>\n",
              "      <td>-0.52</td>\n",
              "      <td>-0.77</td>\n",
              "      <td>-0.60</td>\n",
              "      <td>-0.47</td>\n",
              "    </tr>\n",
              "    <tr>\n",
              "      <th>50%</th>\n",
              "      <td>0.22</td>\n",
              "      <td>-0.14</td>\n",
              "      <td>-0.08</td>\n",
              "      <td>-0.20</td>\n",
              "      <td>0.14</td>\n",
              "      <td>0.04</td>\n",
              "      <td>-0.01</td>\n",
              "      <td>-0.14</td>\n",
              "      <td>0.09</td>\n",
              "      <td>-0.22</td>\n",
              "      <td>-0.34</td>\n",
              "      <td>-0.05</td>\n",
              "      <td>0.20</td>\n",
              "      <td>0.00</td>\n",
              "      <td>-0.17</td>\n",
              "      <td>-0.04</td>\n",
              "      <td>0.08</td>\n",
              "    </tr>\n",
              "    <tr>\n",
              "      <th>75%</th>\n",
              "      <td>0.90</td>\n",
              "      <td>0.48</td>\n",
              "      <td>0.12</td>\n",
              "      <td>0.40</td>\n",
              "      <td>0.67</td>\n",
              "      <td>0.59</td>\n",
              "      <td>0.52</td>\n",
              "      <td>0.46</td>\n",
              "      <td>0.63</td>\n",
              "      <td>0.37</td>\n",
              "      <td>0.28</td>\n",
              "      <td>0.62</td>\n",
              "      <td>0.95</td>\n",
              "      <td>0.62</td>\n",
              "      <td>0.41</td>\n",
              "      <td>0.51</td>\n",
              "      <td>0.65</td>\n",
              "    </tr>\n",
              "    <tr>\n",
              "      <th>max</th>\n",
              "      <td>3.20</td>\n",
              "      <td>2.82</td>\n",
              "      <td>10.25</td>\n",
              "      <td>3.13</td>\n",
              "      <td>3.80</td>\n",
              "      <td>3.12</td>\n",
              "      <td>1.79</td>\n",
              "      <td>3.57</td>\n",
              "      <td>3.03</td>\n",
              "      <td>3.11</td>\n",
              "      <td>2.37</td>\n",
              "      <td>2.60</td>\n",
              "      <td>4.46</td>\n",
              "      <td>3.47</td>\n",
              "      <td>2.95</td>\n",
              "      <td>2.79</td>\n",
              "      <td>4.63</td>\n",
              "    </tr>\n",
              "  </tbody>\n",
              "</table>\n",
              "</div>\n",
              "      <button class=\"colab-df-convert\" onclick=\"convertToInteractive('df-d63be46e-0bc4-4702-b43f-15e4f604f1e8')\"\n",
              "              title=\"Convert this dataframe to an interactive table.\"\n",
              "              style=\"display:none;\">\n",
              "        \n",
              "  <svg xmlns=\"http://www.w3.org/2000/svg\" height=\"24px\"viewBox=\"0 0 24 24\"\n",
              "       width=\"24px\">\n",
              "    <path d=\"M0 0h24v24H0V0z\" fill=\"none\"/>\n",
              "    <path d=\"M18.56 5.44l.94 2.06.94-2.06 2.06-.94-2.06-.94-.94-2.06-.94 2.06-2.06.94zm-11 1L8.5 8.5l.94-2.06 2.06-.94-2.06-.94L8.5 2.5l-.94 2.06-2.06.94zm10 10l.94 2.06.94-2.06 2.06-.94-2.06-.94-.94-2.06-.94 2.06-2.06.94z\"/><path d=\"M17.41 7.96l-1.37-1.37c-.4-.4-.92-.59-1.43-.59-.52 0-1.04.2-1.43.59L10.3 9.45l-7.72 7.72c-.78.78-.78 2.05 0 2.83L4 21.41c.39.39.9.59 1.41.59.51 0 1.02-.2 1.41-.59l7.78-7.78 2.81-2.81c.8-.78.8-2.07 0-2.86zM5.41 20L4 18.59l7.72-7.72 1.47 1.35L5.41 20z\"/>\n",
              "  </svg>\n",
              "      </button>\n",
              "      \n",
              "  <style>\n",
              "    .colab-df-container {\n",
              "      display:flex;\n",
              "      flex-wrap:wrap;\n",
              "      gap: 12px;\n",
              "    }\n",
              "\n",
              "    .colab-df-convert {\n",
              "      background-color: #E8F0FE;\n",
              "      border: none;\n",
              "      border-radius: 50%;\n",
              "      cursor: pointer;\n",
              "      display: none;\n",
              "      fill: #1967D2;\n",
              "      height: 32px;\n",
              "      padding: 0 0 0 0;\n",
              "      width: 32px;\n",
              "    }\n",
              "\n",
              "    .colab-df-convert:hover {\n",
              "      background-color: #E2EBFA;\n",
              "      box-shadow: 0px 1px 2px rgba(60, 64, 67, 0.3), 0px 1px 3px 1px rgba(60, 64, 67, 0.15);\n",
              "      fill: #174EA6;\n",
              "    }\n",
              "\n",
              "    [theme=dark] .colab-df-convert {\n",
              "      background-color: #3B4455;\n",
              "      fill: #D2E3FC;\n",
              "    }\n",
              "\n",
              "    [theme=dark] .colab-df-convert:hover {\n",
              "      background-color: #434B5C;\n",
              "      box-shadow: 0px 1px 3px 1px rgba(0, 0, 0, 0.15);\n",
              "      filter: drop-shadow(0px 1px 2px rgba(0, 0, 0, 0.3));\n",
              "      fill: #FFFFFF;\n",
              "    }\n",
              "  </style>\n",
              "\n",
              "      <script>\n",
              "        const buttonEl =\n",
              "          document.querySelector('#df-d63be46e-0bc4-4702-b43f-15e4f604f1e8 button.colab-df-convert');\n",
              "        buttonEl.style.display =\n",
              "          google.colab.kernel.accessAllowed ? 'block' : 'none';\n",
              "\n",
              "        async function convertToInteractive(key) {\n",
              "          const element = document.querySelector('#df-d63be46e-0bc4-4702-b43f-15e4f604f1e8');\n",
              "          const dataTable =\n",
              "            await google.colab.kernel.invokeFunction('convertToInteractive',\n",
              "                                                     [key], {});\n",
              "          if (!dataTable) return;\n",
              "\n",
              "          const docLinkHtml = 'Like what you see? Visit the ' +\n",
              "            '<a target=\"_blank\" href=https://colab.research.google.com/notebooks/data_table.ipynb>data table notebook</a>'\n",
              "            + ' to learn more about interactive tables.';\n",
              "          element.innerHTML = '';\n",
              "          dataTable['output_type'] = 'display_data';\n",
              "          await google.colab.output.renderOutput(dataTable, element);\n",
              "          const docLink = document.createElement('div');\n",
              "          docLink.innerHTML = docLinkHtml;\n",
              "          element.appendChild(docLink);\n",
              "        }\n",
              "      </script>\n",
              "    </div>\n",
              "  </div>\n",
              "  "
            ]
          },
          "metadata": {},
          "execution_count": 17
        }
      ]
    },
    {
      "cell_type": "code",
      "source": [
        "# draw boxplots to visualize outliers\n",
        "\n",
        "plt.figure(figsize=(24,20))\n",
        "\n",
        "\n",
        "plt.subplot(4, 2, 1)\n",
        "fig = df.boxplot(column='Pz')\n",
        "fig.set_title('')\n",
        "fig.set_ylabel('Pz')\n",
        "\n",
        "\n",
        "plt.subplot(4, 2, 2)\n",
        "fig = df.boxplot(column='P3')\n",
        "fig.set_title('')\n",
        "fig.set_ylabel('P3')\n",
        "\n",
        "\n",
        "plt.subplot(4, 2, 3)\n",
        "fig = df.boxplot(column='P7')\n",
        "fig.set_title('')\n",
        "fig.set_ylabel('P7')\n",
        "\n",
        "\n",
        "plt.subplot(4, 2, 4)\n",
        "fig = df.boxplot(column='O1')\n",
        "fig.set_title('')\n",
        "fig.set_ylabel('O1')\n",
        "\n",
        "\n",
        "plt.subplot(4, 2, 5)\n",
        "fig = df.boxplot(column='Oz')\n",
        "fig.set_title('')\n",
        "fig.set_ylabel('Oz')\n",
        "\n",
        "\n",
        "plt.subplot(4, 2, 6)\n",
        "fig = df.boxplot(column='O2')\n",
        "fig.set_title('')\n",
        "fig.set_ylabel('O2')\n",
        "\n",
        "\n",
        "plt.subplot(4, 2, 7)\n",
        "fig = df.boxplot(column='P4')\n",
        "fig.set_title('')\n",
        "fig.set_ylabel('P4')\n",
        "\n",
        "\n",
        "plt.subplot(4, 2, 8)\n",
        "fig = df.boxplot(column='P8')\n",
        "fig.set_title('')\n",
        "fig.set_ylabel('P8')\n"
      ],
      "metadata": {
        "colab": {
          "base_uri": "https://localhost:8080/",
          "height": 806
        },
        "id": "F2zZIVQDa2xL",
        "outputId": "f2a88bee-fe86-4da3-bdb3-668e5bb5cbf7"
      },
      "execution_count": null,
      "outputs": [
        {
          "output_type": "execute_result",
          "data": {
            "text/plain": [
              "Text(0, 0.5, 'P8')"
            ]
          },
          "metadata": {},
          "execution_count": 22
        },
        {
          "output_type": "display_data",
          "data": {
            "text/plain": [
              "<Figure size 1728x1440 with 8 Axes>"
            ],
            "image/png": "[encoded data removed]"
          },
          "metadata": {
            "needs_background": "light"
          }
        }
      ]
    },
    {
      "cell_type": "code",
      "source": [
        "# draw boxplots to visualize outliers\n",
        "\n",
        "plt.figure(figsize=(24,20))\n",
        "\n",
        "plt.subplot(4, 2, 1)\n",
        "fig = df.boxplot(column='P1')\n",
        "fig.set_title('')\n",
        "fig.set_ylabel('P1')\n",
        "\n",
        "plt.subplot(4, 2, 2)\n",
        "fig = df.boxplot(column='P5')\n",
        "fig.set_title('')\n",
        "fig.set_ylabel('P5')\n",
        "\n",
        "plt.subplot(4, 2, 3)\n",
        "fig = df.boxplot(column='PO7')\n",
        "fig.set_title('')\n",
        "fig.set_ylabel('PO7')\n",
        "\n",
        "plt.subplot(4, 2, 4)\n",
        "fig = df.boxplot(column='PO3')\n",
        "fig.set_title('')\n",
        "fig.set_ylabel('PO3')\n",
        "\n",
        "plt.subplot(4, 2, 5)\n",
        "fig = df.boxplot(column='POz')\n",
        "fig.set_title('')\n",
        "fig.set_ylabel('POz')\n",
        "\n",
        "plt.subplot(4, 2, 6)\n",
        "fig = df.boxplot(column='PO4')\n",
        "fig.set_title('')\n",
        "fig.set_ylabel('PO4')\n",
        "\n",
        "plt.subplot(4, 2, 7)\n",
        "fig = df.boxplot(column='PO8')\n",
        "fig.set_title('')\n",
        "fig.set_ylabel('PO8')\n",
        "\n",
        "plt.subplot(4, 2, 8)\n",
        "fig = df.boxplot(column='P6')\n",
        "fig.set_title('')\n",
        "fig.set_ylabel('P6')\n",
        "\n"
      ],
      "metadata": {
        "colab": {
          "base_uri": "https://localhost:8080/",
          "height": 809
        },
        "id": "EhJQgRSAbyZf",
        "outputId": "a11bd412-2eb7-4aff-fee3-287532ddd166"
      },
      "execution_count": null,
      "outputs": [
        {
          "output_type": "execute_result",
          "data": {
            "text/plain": [
              "Text(0, 0.5, 'P6')"
            ]
          },
          "metadata": {},
          "execution_count": 23
        },
        {
          "output_type": "display_data",
          "data": {
            "text/plain": [
              "<Figure size 1728x1440 with 8 Axes>"
            ],
            "image/png": "[encoded data removed]"
          },
          "metadata": {
            "needs_background": "light"
          }
        }
      ]
    },
    {
      "cell_type": "code",
      "source": [
        "plt.figure(figsize=(24,20))\n",
        "\n",
        "plt.subplot(4, 2, 1)\n",
        "fig = df.boxplot(column='P2')\n",
        "fig.set_title('')\n",
        "fig.set_ylabel('P2')"
      ],
      "metadata": {
        "colab": {
          "base_uri": "https://localhost:8080/",
          "height": 306
        },
        "id": "y4dAeWoOcQpF",
        "outputId": "486a06d6-9978-46db-d2a0-ac207f17fec9"
      },
      "execution_count": null,
      "outputs": [
        {
          "output_type": "execute_result",
          "data": {
            "text/plain": [
              "Text(0, 0.5, 'P2')"
            ]
          },
          "metadata": {},
          "execution_count": 24
        },
        {
          "output_type": "display_data",
          "data": {
            "text/plain": [
              "<Figure size 1728x1440 with 1 Axes>"
            ],
            "image/png": "[encoded data removed]"
          },
          "metadata": {
            "needs_background": "light"
          }
        }
      ]
    },
    {
      "cell_type": "code",
      "source": [
        "# plot histogram to check distribution\n",
        "\n",
        "\n",
        "plt.figure(figsize=(24,20))\n",
        "\n",
        "\n",
        "plt.subplot(4, 2, 1)\n",
        "fig = df['Pz'].hist(bins=20)\n",
        "fig.set_xlabel('Pz')\n",
        "fig.set_ylabel('Label')\n",
        "\n",
        "plt.subplot(4, 2, 2)\n",
        "fig = df['P3'].hist(bins=20)\n",
        "fig.set_xlabel('P3')\n",
        "fig.set_ylabel('Label')\n",
        "\n",
        "plt.subplot(4, 2, 3)\n",
        "fig = df['P7'].hist(bins=20)\n",
        "fig.set_xlabel('P7')\n",
        "fig.set_ylabel('Label')\n",
        "\n",
        "plt.subplot(4, 2, 4)\n",
        "fig = df['O1'].hist(bins=20)\n",
        "fig.set_xlabel('O1')\n",
        "fig.set_ylabel('Label')\n",
        "\n",
        "plt.subplot(4, 2, 5)\n",
        "fig = df['Oz'].hist(bins=20)\n",
        "fig.set_xlabel('Oz')\n",
        "fig.set_ylabel('Label')\n",
        "\n",
        "plt.subplot(4, 2, 6)\n",
        "fig = df['O2'].hist(bins=20)\n",
        "fig.set_xlabel('O2')\n",
        "fig.set_ylabel('Label')\n",
        "\n",
        "plt.subplot(4, 2, 7)\n",
        "fig = df['P4'].hist(bins=20)\n",
        "fig.set_xlabel('P4')\n",
        "fig.set_ylabel('Label')\n",
        "\n",
        "plt.subplot(4, 2, 8)\n",
        "fig = df['P8'].hist(bins=20)\n",
        "fig.set_xlabel('P8')\n",
        "fig.set_ylabel('Label')"
      ],
      "metadata": {
        "colab": {
          "base_uri": "https://localhost:8080/",
          "height": 817
        },
        "id": "aMp_arbyc7Mr",
        "outputId": "77448847-fde2-4df3-8241-5c1d0c185ccb"
      },
      "execution_count": null,
      "outputs": [
        {
          "output_type": "execute_result",
          "data": {
            "text/plain": [
              "Text(0, 0.5, 'Label')"
            ]
          },
          "metadata": {},
          "execution_count": 27
        },
        {
          "output_type": "display_data",
          "data": {
            "text/plain": [
              "<Figure size 1728x1440 with 8 Axes>"
            ],
            "image/png": "[encoded data removed]"
          },
          "metadata": {
            "needs_background": "light"
          }
        }
      ]
    },
    {
      "cell_type": "code",
      "source": [
        "# plot histogram to check distribution\n",
        "\n",
        "\n",
        "plt.figure(figsize=(24,20))\n",
        "\n",
        "\n",
        "plt.subplot(4, 2, 1)\n",
        "fig = df['P1'].hist(bins=20)\n",
        "fig.set_xlabel('P1')\n",
        "fig.set_ylabel('Label')\n",
        "\n",
        "plt.subplot(4, 2, 2)\n",
        "fig = df['P5'].hist(bins=20)\n",
        "fig.set_xlabel('P5')\n",
        "fig.set_ylabel('Label')\n",
        "\n",
        "plt.subplot(4, 2, 3)\n",
        "fig = df['PO7'].hist(bins=20)\n",
        "fig.set_xlabel('PO7')\n",
        "fig.set_ylabel('Label')\n",
        "\n",
        "plt.subplot(4, 2, 4)\n",
        "fig = df['PO3'].hist(bins=20)\n",
        "fig.set_xlabel('PO3')\n",
        "fig.set_ylabel('Label')\n",
        "\n",
        "plt.subplot(4, 2, 5)\n",
        "fig = df['POz'].hist(bins=20)\n",
        "fig.set_xlabel('POz')\n",
        "fig.set_ylabel('Label')\n",
        "\n",
        "plt.subplot(4, 2, 6)\n",
        "fig = df['PO4'].hist(bins=20)\n",
        "fig.set_xlabel('PO4')\n",
        "fig.set_ylabel('Label')\n",
        "\n",
        "plt.subplot(4, 2, 7)\n",
        "fig = df['PO8'].hist(bins=20)\n",
        "fig.set_xlabel('PO8')\n",
        "fig.set_ylabel('Label')\n",
        "\n",
        "plt.subplot(4, 2, 8)\n",
        "fig = df['P6'].hist(bins=20)\n",
        "fig.set_xlabel('P6')\n",
        "fig.set_ylabel('Label')"
      ],
      "metadata": {
        "colab": {
          "base_uri": "https://localhost:8080/",
          "height": 820
        },
        "id": "fEaNP2wydnnl",
        "outputId": "adb6d669-1cee-45c7-f07b-469a41dc2774"
      },
      "execution_count": null,
      "outputs": [
        {
          "output_type": "execute_result",
          "data": {
            "text/plain": [
              "Text(0, 0.5, 'Label')"
            ]
          },
          "metadata": {},
          "execution_count": 28
        },
        {
          "output_type": "display_data",
          "data": {
            "text/plain": [
              "<Figure size 1728x1440 with 8 Axes>"
            ],
            "image/png": "[encoded data removed]"
          },
          "metadata": {
            "needs_background": "light"
          }
        }
      ]
    },
    {
      "cell_type": "code",
      "source": [
        "# plot histogram to check distribution\n",
        "\n",
        "\n",
        "plt.figure(figsize=(24,20))\n",
        "\n",
        "\n",
        "plt.subplot(4, 2, 1)\n",
        "fig = df['P2'].hist(bins=20)\n",
        "fig.set_xlabel('P2')\n",
        "fig.set_ylabel('Label')"
      ],
      "metadata": {
        "colab": {
          "base_uri": "https://localhost:8080/",
          "height": 316
        },
        "id": "IQ2qER9HeT0X",
        "outputId": "07c94263-5721-470b-9d1b-b4ebf2a91d82"
      },
      "execution_count": null,
      "outputs": [
        {
          "output_type": "execute_result",
          "data": {
            "text/plain": [
              "Text(0, 0.5, 'Label')"
            ]
          },
          "metadata": {},
          "execution_count": 29
        },
        {
          "output_type": "display_data",
          "data": {
            "text/plain": [
              "<Figure size 1728x1440 with 1 Axes>"
            ],
            "image/png": "[encoded data removed]"
          },
          "metadata": {
            "needs_background": "light"
          }
        }
      ]
    },
    {
      "cell_type": "code",
      "source": [
        "X = df.drop(['label'], axis=1)\n",
        "\n",
        "y = df['label']"
      ],
      "metadata": {
        "id": "oPedyqjieWBU"
      },
      "execution_count": null,
      "outputs": []
    },
    {
      "cell_type": "code",
      "source": [
        "# split X and y into training and testing sets\n",
        "\n",
        "from sklearn.model_selection import train_test_split\n",
        "\n",
        "X_train, X_test, y_train, y_test = train_test_split(X, y, test_size = 0.2, random_state = 0)\n"
      ],
      "metadata": {
        "id": "3AtnnR6Fe6iC"
      },
      "execution_count": null,
      "outputs": []
    },
    {
      "cell_type": "code",
      "source": [
        "# check the shape of X_train and X_test\n",
        "\n",
        "X_train.shape, X_test.shape"
      ],
      "metadata": {
        "colab": {
          "base_uri": "https://localhost:8080/"
        },
        "id": "RBU-XYbde86e",
        "outputId": "16ca08cc-b26e-436b-b993-357c41cd6f88"
      },
      "execution_count": null,
      "outputs": [
        {
          "output_type": "execute_result",
          "data": {
            "text/plain": [
              "((415, 17), (104, 17))"
            ]
          },
          "metadata": {},
          "execution_count": 32
        }
      ]
    },
    {
      "cell_type": "code",
      "source": [
        "cols = X_train.columns"
      ],
      "metadata": {
        "id": "X3dyDpSoe-Mw"
      },
      "execution_count": null,
      "outputs": []
    },
    {
      "cell_type": "code",
      "source": [
        "from sklearn.preprocessing import StandardScaler\n",
        "\n",
        "scaler = StandardScaler()\n",
        "\n",
        "X_train = scaler.fit_transform(X_train)\n",
        "\n",
        "X_test = scaler.transform(X_test)\n"
      ],
      "metadata": {
        "id": "qqVSrC4SfMcG"
      },
      "execution_count": null,
      "outputs": []
    },
    {
      "cell_type": "code",
      "source": [
        "X_train = pd.DataFrame(X_train, columns=[cols])"
      ],
      "metadata": {
        "id": "HvLGqj_JfOAN"
      },
      "execution_count": null,
      "outputs": []
    },
    {
      "cell_type": "code",
      "source": [
        "X_test = pd.DataFrame(X_test, columns=[cols])"
      ],
      "metadata": {
        "id": "YLg4D1SyfPRI"
      },
      "execution_count": null,
      "outputs": []
    },
    {
      "cell_type": "code",
      "source": [
        "X_train.describe()"
      ],
      "metadata": {
        "colab": {
          "base_uri": "https://localhost:8080/",
          "height": 364
        },
        "id": "y6-yTWKffQUy",
        "outputId": "fe982d6e-adf8-4d34-fff4-a3b8dabd740d"
      },
      "execution_count": null,
      "outputs": [
        {
          "output_type": "execute_result",
          "data": {
            "text/plain": [
              "                 Pz            P3            P7            O1          Oz  \\\n",
              "count  4.150000e+02  4.150000e+02  4.150000e+02  4.150000e+02  415.000000   \n",
              "mean   1.712151e-17  1.712151e-17 -4.708416e-17 -8.560756e-18    0.000000   \n",
              "std    1.001207e+00  1.001207e+00  1.001207e+00  1.001207e+00    1.001207   \n",
              "min   -3.096482e+00 -4.440362e+00 -4.224651e+00 -5.101737e+00   -3.978831   \n",
              "25%   -6.071678e-01 -5.724758e-01 -2.412503e-01 -6.135925e-01   -0.637300   \n",
              "50%    3.250877e-02 -2.501644e-02  1.233892e-01 -7.804687e-03    0.020991   \n",
              "75%    5.984117e-01  6.435036e-01  3.371398e-01  6.271184e-01    0.628786   \n",
              "max    2.801201e+00  3.295564e+00  1.039296e+01  3.491893e+00    3.897298   \n",
              "\n",
              "                 O2            P4            P8            P1            P5  \\\n",
              "count  4.150000e+02  4.150000e+02  4.150000e+02  4.150000e+02  4.150000e+02   \n",
              "mean  -2.140189e-17 -4.280378e-18  1.284113e-17 -8.560756e-18 -2.140189e-17   \n",
              "std    1.001207e+00  1.001207e+00  1.001207e+00  1.001207e+00  1.001207e+00   \n",
              "min   -4.515609e+00 -3.621963e+00 -3.526717e+00 -3.964179e+00 -4.633130e+00   \n",
              "25%   -6.494135e-01 -6.003257e-01 -5.838166e-01 -5.969029e-01 -5.845654e-01   \n",
              "50%    1.030430e-02  2.834636e-02 -4.725491e-03  1.401623e-02 -5.169626e-03   \n",
              "75%    5.930338e-01  6.412427e-01  5.984707e-01  6.600090e-01  6.290645e-01   \n",
              "max    3.182926e+00  2.252589e+00  3.494412e+00  3.162348e+00  3.535899e+00   \n",
              "\n",
              "                PO7           PO3           POz           PO4           PO8  \\\n",
              "count  4.150000e+02  4.150000e+02  4.150000e+02  4.150000e+02  4.150000e+02   \n",
              "mean   1.284113e-17  8.560756e-18 -8.560756e-18 -2.568227e-17  2.354208e-17   \n",
              "std    1.001207e+00  1.001207e+00  1.001207e+00  1.001207e+00  1.001207e+00   \n",
              "min   -3.250474e+00 -3.339961e+00 -2.833623e+00 -3.442063e+00 -3.297496e+00   \n",
              "25%   -6.410774e-01 -7.019681e-01 -6.735722e-01 -6.458005e-01 -6.618484e-01   \n",
              "50%   -2.135273e-02  2.543736e-02 -5.213850e-02 -6.666192e-02  2.776004e-03   \n",
              "75%    6.434440e-01  7.371500e-01  6.128345e-01  6.465555e-01  6.325735e-01   \n",
              "max    2.849162e+00  2.865971e+00  3.919348e+00  3.903522e+00  3.297460e+00   \n",
              "\n",
              "                 P6            P2  \n",
              "count  4.150000e+02  4.150000e+02  \n",
              "mean   8.560756e-18 -1.712151e-17  \n",
              "std    1.001207e+00  1.001207e+00  \n",
              "min   -2.780780e+00 -3.161542e+00  \n",
              "25%   -6.803626e-01 -6.037467e-01  \n",
              "50%   -6.133397e-03  1.230792e-02  \n",
              "75%    6.135152e-01  6.040243e-01  \n",
              "max    3.203635e+00  5.100922e+00  "
            ],
            "text/html": [
              "\n",
              "  <div id=\"df-784f9ac0-da53-4037-90e7-44efd25e5f26\">\n",
              "    <div class=\"colab-df-container\">\n",
              "      <div>\n",
              "<style scoped>\n",
              "    .dataframe tbody tr th:only-of-type {\n",
              "        vertical-align: middle;\n",
              "    }\n",
              "\n",
              "    .dataframe tbody tr th {\n",
              "        vertical-align: top;\n",
              "    }\n",
              "\n",
              "    .dataframe thead tr th {\n",
              "        text-align: left;\n",
              "    }\n",
              "</style>\n",
              "<table border=\"1\" class=\"dataframe\">\n",
              "  <thead>\n",
              "    <tr>\n",
              "      <th></th>\n",
              "      <th>Pz</th>\n",
              "      <th>P3</th>\n",
              "      <th>P7</th>\n",
              "      <th>O1</th>\n",
              "      <th>Oz</th>\n",
              "      <th>O2</th>\n",
              "      <th>P4</th>\n",
              "      <th>P8</th>\n",
              "      <th>P1</th>\n",
              "      <th>P5</th>\n",
              "      <th>PO7</th>\n",
              "      <th>PO3</th>\n",
              "      <th>POz</th>\n",
              "      <th>PO4</th>\n",
              "      <th>PO8</th>\n",
              "      <th>P6</th>\n",
              "      <th>P2</th>\n",
              "    </tr>\n",
              "  </thead>\n",
              "  <tbody>\n",
              "    <tr>\n",
              "      <th>count</th>\n",
              "      <td>4.150000e+02</td>\n",
              "      <td>4.150000e+02</td>\n",
              "      <td>4.150000e+02</td>\n",
              "      <td>4.150000e+02</td>\n",
              "      <td>415.000000</td>\n",
              "      <td>4.150000e+02</td>\n",
              "      <td>4.150000e+02</td>\n",
              "      <td>4.150000e+02</td>\n",
              "      <td>4.150000e+02</td>\n",
              "      <td>4.150000e+02</td>\n",
              "      <td>4.150000e+02</td>\n",
              "      <td>4.150000e+02</td>\n",
              "      <td>4.150000e+02</td>\n",
              "      <td>4.150000e+02</td>\n",
              "      <td>4.150000e+02</td>\n",
              "      <td>4.150000e+02</td>\n",
              "      <td>4.150000e+02</td>\n",
              "    </tr>\n",
              "    <tr>\n",
              "      <th>mean</th>\n",
              "      <td>1.712151e-17</td>\n",
              "      <td>1.712151e-17</td>\n",
              "      <td>-4.708416e-17</td>\n",
              "      <td>-8.560756e-18</td>\n",
              "      <td>0.000000</td>\n",
              "      <td>-2.140189e-17</td>\n",
              "      <td>-4.280378e-18</td>\n",
              "      <td>1.284113e-17</td>\n",
              "      <td>-8.560756e-18</td>\n",
              "      <td>-2.140189e-17</td>\n",
              "      <td>1.284113e-17</td>\n",
              "      <td>8.560756e-18</td>\n",
              "      <td>-8.560756e-18</td>\n",
              "      <td>-2.568227e-17</td>\n",
              "      <td>2.354208e-17</td>\n",
              "      <td>8.560756e-18</td>\n",
              "      <td>-1.712151e-17</td>\n",
              "    </tr>\n",
              "    <tr>\n",
              "      <th>std</th>\n",
              "      <td>1.001207e+00</td>\n",
              "      <td>1.001207e+00</td>\n",
              "      <td>1.001207e+00</td>\n",
              "      <td>1.001207e+00</td>\n",
              "      <td>1.001207</td>\n",
              "      <td>1.001207e+00</td>\n",
              "      <td>1.001207e+00</td>\n",
              "      <td>1.001207e+00</td>\n",
              "      <td>1.001207e+00</td>\n",
              "      <td>1.001207e+00</td>\n",
              "      <td>1.001207e+00</td>\n",
              "      <td>1.001207e+00</td>\n",
              "      <td>1.001207e+00</td>\n",
              "      <td>1.001207e+00</td>\n",
              "      <td>1.001207e+00</td>\n",
              "      <td>1.001207e+00</td>\n",
              "      <td>1.001207e+00</td>\n",
              "    </tr>\n",
              "    <tr>\n",
              "      <th>min</th>\n",
              "      <td>-3.096482e+00</td>\n",
              "      <td>-4.440362e+00</td>\n",
              "      <td>-4.224651e+00</td>\n",
              "      <td>-5.101737e+00</td>\n",
              "      <td>-3.978831</td>\n",
              "      <td>-4.515609e+00</td>\n",
              "      <td>-3.621963e+00</td>\n",
              "      <td>-3.526717e+00</td>\n",
              "      <td>-3.964179e+00</td>\n",
              "      <td>-4.633130e+00</td>\n",
              "      <td>-3.250474e+00</td>\n",
              "      <td>-3.339961e+00</td>\n",
              "      <td>-2.833623e+00</td>\n",
              "      <td>-3.442063e+00</td>\n",
              "      <td>-3.297496e+00</td>\n",
              "      <td>-2.780780e+00</td>\n",
              "      <td>-3.161542e+00</td>\n",
              "    </tr>\n",
              "    <tr>\n",
              "      <th>25%</th>\n",
              "      <td>-6.071678e-01</td>\n",
              "      <td>-5.724758e-01</td>\n",
              "      <td>-2.412503e-01</td>\n",
              "      <td>-6.135925e-01</td>\n",
              "      <td>-0.637300</td>\n",
              "      <td>-6.494135e-01</td>\n",
              "      <td>-6.003257e-01</td>\n",
              "      <td>-5.838166e-01</td>\n",
              "      <td>-5.969029e-01</td>\n",
              "      <td>-5.845654e-01</td>\n",
              "      <td>-6.410774e-01</td>\n",
              "      <td>-7.019681e-01</td>\n",
              "      <td>-6.735722e-01</td>\n",
              "      <td>-6.458005e-01</td>\n",
              "      <td>-6.618484e-01</td>\n",
              "      <td>-6.803626e-01</td>\n",
              "      <td>-6.037467e-01</td>\n",
              "    </tr>\n",
              "    <tr>\n",
              "      <th>50%</th>\n",
              "      <td>3.250877e-02</td>\n",
              "      <td>-2.501644e-02</td>\n",
              "      <td>1.233892e-01</td>\n",
              "      <td>-7.804687e-03</td>\n",
              "      <td>0.020991</td>\n",
              "      <td>1.030430e-02</td>\n",
              "      <td>2.834636e-02</td>\n",
              "      <td>-4.725491e-03</td>\n",
              "      <td>1.401623e-02</td>\n",
              "      <td>-5.169626e-03</td>\n",
              "      <td>-2.135273e-02</td>\n",
              "      <td>2.543736e-02</td>\n",
              "      <td>-5.213850e-02</td>\n",
              "      <td>-6.666192e-02</td>\n",
              "      <td>2.776004e-03</td>\n",
              "      <td>-6.133397e-03</td>\n",
              "      <td>1.230792e-02</td>\n",
              "    </tr>\n",
              "    <tr>\n",
              "      <th>75%</th>\n",
              "      <td>5.984117e-01</td>\n",
              "      <td>6.435036e-01</td>\n",
              "      <td>3.371398e-01</td>\n",
              "      <td>6.271184e-01</td>\n",
              "      <td>0.628786</td>\n",
              "      <td>5.930338e-01</td>\n",
              "      <td>6.412427e-01</td>\n",
              "      <td>5.984707e-01</td>\n",
              "      <td>6.600090e-01</td>\n",
              "      <td>6.290645e-01</td>\n",
              "      <td>6.434440e-01</td>\n",
              "      <td>7.371500e-01</td>\n",
              "      <td>6.128345e-01</td>\n",
              "      <td>6.465555e-01</td>\n",
              "      <td>6.325735e-01</td>\n",
              "      <td>6.135152e-01</td>\n",
              "      <td>6.040243e-01</td>\n",
              "    </tr>\n",
              "    <tr>\n",
              "      <th>max</th>\n",
              "      <td>2.801201e+00</td>\n",
              "      <td>3.295564e+00</td>\n",
              "      <td>1.039296e+01</td>\n",
              "      <td>3.491893e+00</td>\n",
              "      <td>3.897298</td>\n",
              "      <td>3.182926e+00</td>\n",
              "      <td>2.252589e+00</td>\n",
              "      <td>3.494412e+00</td>\n",
              "      <td>3.162348e+00</td>\n",
              "      <td>3.535899e+00</td>\n",
              "      <td>2.849162e+00</td>\n",
              "      <td>2.865971e+00</td>\n",
              "      <td>3.919348e+00</td>\n",
              "      <td>3.903522e+00</td>\n",
              "      <td>3.297460e+00</td>\n",
              "      <td>3.203635e+00</td>\n",
              "      <td>5.100922e+00</td>\n",
              "    </tr>\n",
              "  </tbody>\n",
              "</table>\n",
              "</div>\n",
              "      <button class=\"colab-df-convert\" onclick=\"convertToInteractive('df-784f9ac0-da53-4037-90e7-44efd25e5f26')\"\n",
              "              title=\"Convert this dataframe to an interactive table.\"\n",
              "              style=\"display:none;\">\n",
              "        \n",
              "  <svg xmlns=\"http://www.w3.org/2000/svg\" height=\"24px\"viewBox=\"0 0 24 24\"\n",
              "       width=\"24px\">\n",
              "    <path d=\"M0 0h24v24H0V0z\" fill=\"none\"/>\n",
              "    <path d=\"M18.56 5.44l.94 2.06.94-2.06 2.06-.94-2.06-.94-.94-2.06-.94 2.06-2.06.94zm-11 1L8.5 8.5l.94-2.06 2.06-.94-2.06-.94L8.5 2.5l-.94 2.06-2.06.94zm10 10l.94 2.06.94-2.06 2.06-.94-2.06-.94-.94-2.06-.94 2.06-2.06.94z\"/><path d=\"M17.41 7.96l-1.37-1.37c-.4-.4-.92-.59-1.43-.59-.52 0-1.04.2-1.43.59L10.3 9.45l-7.72 7.72c-.78.78-.78 2.05 0 2.83L4 21.41c.39.39.9.59 1.41.59.51 0 1.02-.2 1.41-.59l7.78-7.78 2.81-2.81c.8-.78.8-2.07 0-2.86zM5.41 20L4 18.59l7.72-7.72 1.47 1.35L5.41 20z\"/>\n",
              "  </svg>\n",
              "      </button>\n",
              "      \n",
              "  <style>\n",
              "    .colab-df-container {\n",
              "      display:flex;\n",
              "      flex-wrap:wrap;\n",
              "      gap: 12px;\n",
              "    }\n",
              "\n",
              "    .colab-df-convert {\n",
              "      background-color: #E8F0FE;\n",
              "      border: none;\n",
              "      border-radius: 50%;\n",
              "      cursor: pointer;\n",
              "      display: none;\n",
              "      fill: #1967D2;\n",
              "      height: 32px;\n",
              "      padding: 0 0 0 0;\n",
              "      width: 32px;\n",
              "    }\n",
              "\n",
              "    .colab-df-convert:hover {\n",
              "      background-color: #E2EBFA;\n",
              "      box-shadow: 0px 1px 2px rgba(60, 64, 67, 0.3), 0px 1px 3px 1px rgba(60, 64, 67, 0.15);\n",
              "      fill: #174EA6;\n",
              "    }\n",
              "\n",
              "    [theme=dark] .colab-df-convert {\n",
              "      background-color: #3B4455;\n",
              "      fill: #D2E3FC;\n",
              "    }\n",
              "\n",
              "    [theme=dark] .colab-df-convert:hover {\n",
              "      background-color: #434B5C;\n",
              "      box-shadow: 0px 1px 3px 1px rgba(0, 0, 0, 0.15);\n",
              "      filter: drop-shadow(0px 1px 2px rgba(0, 0, 0, 0.3));\n",
              "      fill: #FFFFFF;\n",
              "    }\n",
              "  </style>\n",
              "\n",
              "      <script>\n",
              "        const buttonEl =\n",
              "          document.querySelector('#df-784f9ac0-da53-4037-90e7-44efd25e5f26 button.colab-df-convert');\n",
              "        buttonEl.style.display =\n",
              "          google.colab.kernel.accessAllowed ? 'block' : 'none';\n",
              "\n",
              "        async function convertToInteractive(key) {\n",
              "          const element = document.querySelector('#df-784f9ac0-da53-4037-90e7-44efd25e5f26');\n",
              "          const dataTable =\n",
              "            await google.colab.kernel.invokeFunction('convertToInteractive',\n",
              "                                                     [key], {});\n",
              "          if (!dataTable) return;\n",
              "\n",
              "          const docLinkHtml = 'Like what you see? Visit the ' +\n",
              "            '<a target=\"_blank\" href=https://colab.research.google.com/notebooks/data_table.ipynb>data table notebook</a>'\n",
              "            + ' to learn more about interactive tables.';\n",
              "          element.innerHTML = '';\n",
              "          dataTable['output_type'] = 'display_data';\n",
              "          await google.colab.output.renderOutput(dataTable, element);\n",
              "          const docLink = document.createElement('div');\n",
              "          docLink.innerHTML = docLinkHtml;\n",
              "          element.appendChild(docLink);\n",
              "        }\n",
              "      </script>\n",
              "    </div>\n",
              "  </div>\n",
              "  "
            ]
          },
          "metadata": {},
          "execution_count": 37
        }
      ]
    },
    {
      "cell_type": "code",
      "source": [
        "# import SVC classifier\n",
        "from sklearn.svm import SVC\n",
        "\n",
        "\n",
        "# import metrics to compute accuracy\n",
        "from sklearn.metrics import accuracy_score\n",
        "\n",
        "\n",
        "# instantiate classifier with default hyperparameters\n",
        "svc=SVC() \n",
        "\n",
        "\n",
        "# fit classifier to training set\n",
        "svc.fit(X_train,y_train)\n",
        "\n",
        "\n",
        "# make predictions on test set\n",
        "y_pred=svc.predict(X_test)\n",
        "\n",
        "\n",
        "# compute and print accuracy score\n",
        "print('Model accuracy score with default hyperparameters: {0:0.4f}'. format(accuracy_score(y_test, y_pred)))"
      ],
      "metadata": {
        "colab": {
          "base_uri": "https://localhost:8080/"
        },
        "id": "VooTssyVfRlO",
        "outputId": "fd0b35d1-fae6-47e4-8636-020f5d7bdc7b"
      },
      "execution_count": null,
      "outputs": [
        {
          "output_type": "stream",
          "name": "stdout",
          "text": [
            "Model accuracy score with default hyperparameters: 0.1058\n"
          ]
        }
      ]
    },
    {
      "cell_type": "code",
      "source": [
        "# instantiate classifier with rbf kernel and C=100\n",
        "svc=SVC(C=100.0) \n",
        "\n",
        "\n",
        "# fit classifier to training set\n",
        "svc.fit(X_train,y_train)\n",
        "\n",
        "\n",
        "# make predictions on test set\n",
        "y_pred=svc.predict(X_test)\n",
        "\n",
        "\n",
        "# compute and print accuracy score\n",
        "print('Model accuracy score with rbf kernel and C=100.0 : {0:0.4f}'. format(accuracy_score(y_test, y_pred)))"
      ],
      "metadata": {
        "colab": {
          "base_uri": "https://localhost:8080/"
        },
        "id": "ZcMi4uPHfYVf",
        "outputId": "652aa8bd-b9ea-4ec2-c161-e4b2628efa39"
      },
      "execution_count": null,
      "outputs": [
        {
          "output_type": "stream",
          "name": "stdout",
          "text": [
            "Model accuracy score with rbf kernel and C=100.0 : 0.0385\n"
          ]
        }
      ]
    },
    {
      "cell_type": "code",
      "source": [
        "# instantiate classifier with rbf kernel and C=1000\n",
        "svc=SVC(C=1000.0) \n",
        "\n",
        "\n",
        "# fit classifier to training set\n",
        "svc.fit(X_train,y_train)\n",
        "\n",
        "\n",
        "# make predictions on test set\n",
        "y_pred=svc.predict(X_test)\n",
        "\n",
        "\n",
        "# compute and print accuracy score\n",
        "print('Model accuracy score with rbf kernel and C=1000.0 : {0:0.4f}'. format(accuracy_score(y_test, y_pred)))"
      ],
      "metadata": {
        "colab": {
          "base_uri": "https://localhost:8080/"
        },
        "id": "OMQq0c8rfayW",
        "outputId": "a73528a0-d0e6-42f2-ae47-5a59452bbbaa"
      },
      "execution_count": null,
      "outputs": [
        {
          "output_type": "stream",
          "name": "stdout",
          "text": [
            "Model accuracy score with rbf kernel and C=1000.0 : 0.0385\n"
          ]
        }
      ]
    },
    {
      "cell_type": "code",
      "source": [
        "# instantiate classifier with linear kernel and C=1.0\n",
        "linear_svc=SVC(kernel='linear', C=1.0) \n",
        "\n",
        "\n",
        "# fit classifier to training set\n",
        "linear_svc.fit(X_train,y_train)\n",
        "\n",
        "\n",
        "# make predictions on test set\n",
        "y_pred_test=linear_svc.predict(X_test)\n",
        "\n",
        "\n",
        "# compute and print accuracy score\n",
        "print('Model accuracy score with linear kernel and C=1.0 : {0:0.4f}'. format(accuracy_score(y_test, y_pred_test)))\n"
      ],
      "metadata": {
        "colab": {
          "base_uri": "https://localhost:8080/"
        },
        "id": "CUG4TjPtffg7",
        "outputId": "266b6a50-2abc-4b1f-9448-57446dcd4c44"
      },
      "execution_count": null,
      "outputs": [
        {
          "output_type": "stream",
          "name": "stdout",
          "text": [
            "Model accuracy score with linear kernel and C=1.0 : 0.0865\n"
          ]
        }
      ]
    },
    {
      "cell_type": "code",
      "source": [
        "# instantiate classifier with linear kernel and C=100.0\n",
        "linear_svc100=SVC(kernel='linear', C=100.0) \n",
        "\n",
        "\n",
        "# fit classifier to training set\n",
        "linear_svc100.fit(X_train, y_train)\n",
        "\n",
        "\n",
        "# make predictions on test set\n",
        "y_pred=linear_svc100.predict(X_test)\n",
        "\n",
        "\n",
        "# compute and print accuracy score\n",
        "print('Model accuracy score with linear kernel and C=100.0 : {0:0.4f}'. format(accuracy_score(y_test, y_pred)))"
      ],
      "metadata": {
        "colab": {
          "base_uri": "https://localhost:8080/"
        },
        "id": "AKoL7Bd8fj8z",
        "outputId": "ee02c860-3992-4da4-a84a-92b9e93ab812"
      },
      "execution_count": null,
      "outputs": [
        {
          "output_type": "stream",
          "name": "stdout",
          "text": [
            "Model accuracy score with linear kernel and C=100.0 : 0.0962\n"
          ]
        }
      ]
    },
    {
      "cell_type": "code",
      "source": [
        "# instantiate classifier with linear kernel and C=1000.0\n",
        "linear_svc1000=SVC(kernel='linear', C=1000.0) \n",
        "\n",
        "\n",
        "# fit classifier to training set\n",
        "linear_svc1000.fit(X_train, y_train)\n",
        "\n",
        "\n",
        "# make predictions on test set\n",
        "y_pred=linear_svc1000.predict(X_test)\n",
        "\n",
        "\n",
        "# compute and print accuracy score\n",
        "print('Model accuracy score with linear kernel and C=1000.0 : {0:0.4f}'. format(accuracy_score(y_test, y_pred)))"
      ],
      "metadata": {
        "colab": {
          "base_uri": "https://localhost:8080/"
        },
        "id": "DEjXMMaiftEi",
        "outputId": "0ee2ba2b-e974-4c1f-f688-7832f6aa0884"
      },
      "execution_count": null,
      "outputs": [
        {
          "output_type": "stream",
          "name": "stdout",
          "text": [
            "Model accuracy score with linear kernel and C=1000.0 : 0.1058\n"
          ]
        }
      ]
    },
    {
      "cell_type": "code",
      "source": [
        "y_pred_train = linear_svc.predict(X_train)\n",
        "\n",
        "y_pred_train"
      ],
      "metadata": {
        "colab": {
          "base_uri": "https://localhost:8080/"
        },
        "id": "iO2xfu2Tf-dt",
        "outputId": "55620aed-2323-4de8-c671-c2a45461a767"
      },
      "execution_count": null,
      "outputs": [
        {
          "output_type": "execute_result",
          "data": {
            "text/plain": [
              "array(['Soda', 'Soda', 'Drink', 'Steak', 'Pillow', 'Drink', 'Pillow',\n",
              "       'Tomato', 'Cot', 'Shower', 'Bed', 'Bed', 'Soda', 'Pillow',\n",
              "       'Biscuit', 'Spaghetti', 'Pillow', 'Pillow', 'Drink', 'Spaghetti',\n",
              "       'Smoothie', 'Smoothie', 'Tomato', 'Biscuit', 'Tomato', 'Sofabed',\n",
              "       'Smoothie', 'Bed', 'Sofabed', 'Drink', 'Shower', 'Steak', 'Tomato',\n",
              "       'Shower', 'Smoothie', 'Cot', 'Shower', 'Drink', 'Shower', 'Pillow',\n",
              "       'Tomato', 'Toilet', 'Spaghetti', 'Tomato', 'Shower', 'Tomato',\n",
              "       'Steak', 'Tomato', 'Smoothie', 'Bed', 'Tomato', 'Shower',\n",
              "       'Sofabed', 'Spaghetti', 'Biscuit', 'Bed', 'Spaghetti', 'Bed',\n",
              "       'Smoothie', 'Soda', 'Tomato', 'Cot', 'Steak', 'Tomato', 'Shower',\n",
              "       'Steak', 'Cot', 'Soda', 'Biscuit', 'Shower', 'Smoothie',\n",
              "       'Smoothie', 'Drink', 'Cot', 'Shower', 'Cot', 'Shower', 'Shower',\n",
              "       'Soda', 'Smoothie', 'Pillow', 'Steak', 'Pillow', 'Cot', 'Shower',\n",
              "       'Spaghetti', 'Drink', 'Spaghetti', 'Smoothie', 'Smoothie',\n",
              "       'Pillow', 'Sofabed', 'Pillow', 'Pillow', 'Spaghetti', 'Spaghetti',\n",
              "       'Bed', 'Pillow', 'Spaghetti', 'Pillow', 'Bed', 'Soda', 'Spaghetti',\n",
              "       'Drink', 'Shower', 'Sofabed', 'Smoothie', 'Sofabed', 'Smoothie',\n",
              "       'Soda', 'Spaghetti', 'Cot', 'Steak', 'Drink', 'Bed', 'Shower',\n",
              "       'Cot', 'Sofabed', 'Drink', 'Bed', 'Smoothie', 'Shower', 'Steak',\n",
              "       'Cot', 'Bed', 'Shower', 'Sofabed', 'Shower', 'Tomato', 'Toilet',\n",
              "       'Toilet', 'Drink', 'Spaghetti', 'Drink', 'Steak', 'Sofabed', 'Bed',\n",
              "       'Bed', 'Sofabed', 'Pillow', 'Pillow', 'Soda', 'Tomato', 'Soda',\n",
              "       'Bed', 'Bed', 'Pillow', 'Bed', 'Cot', 'Tomato', 'Spaghetti',\n",
              "       'Spaghetti', 'Tomato', 'Drink', 'Shower', 'Drink', 'Pillow',\n",
              "       'Sofabed', 'Drink', 'Steak', 'Drink', 'Shower', 'Drink',\n",
              "       'Spaghetti', 'Drink', 'Cot', 'Toilet', 'Drink', 'Tomato', 'Cot',\n",
              "       'Drink', 'Cot', 'Sofabed', 'Steak', 'Soda', 'Bed', 'Tomato', 'Bed',\n",
              "       'Sofabed', 'Spaghetti', 'Soda', 'Drink', 'Steak', 'Toilet',\n",
              "       'Steak', 'Toilet', 'Pillow', 'Bed', 'Tomato', 'Tomato', 'Drink',\n",
              "       'Pillow', 'Soda', 'Soda', 'Pillow', 'Shower', 'Tomato', 'Sofabed',\n",
              "       'Soda', 'Tomato', 'Smoothie', 'Tomato', 'Smoothie', 'Shower',\n",
              "       'Spaghetti', 'Toilet', 'Drink', 'Tomato', 'Biscuit', 'Smoothie',\n",
              "       'Pillow', 'Drink', 'Cot', 'Drink', 'Tomato', 'Cot', 'Steak',\n",
              "       'Tomato', 'Spaghetti', 'Biscuit', 'Smoothie', 'Spaghetti', 'Bed',\n",
              "       'Toilet', 'Bed', 'Bed', 'Smoothie', 'Sofabed', 'Bed', 'Pillow',\n",
              "       'Pillow', 'Cot', 'Steak', 'Spaghetti', 'Shower', 'Cot', 'Shower',\n",
              "       'Steak', 'Sofabed', 'Soda', 'Cot', 'Biscuit', 'Soda', 'Soda',\n",
              "       'Cot', 'Spaghetti', 'Steak', 'Pillow', 'Biscuit', 'Tomato',\n",
              "       'Pillow', 'Pillow', 'Toilet', 'Spaghetti', 'Shower', 'Biscuit',\n",
              "       'Cot', 'Smoothie', 'Steak', 'Toilet', 'Drink', 'Bed', 'Bed',\n",
              "       'Drink', 'Pillow', 'Bed', 'Drink', 'Pillow', 'Soda', 'Cot',\n",
              "       'Biscuit', 'Drink', 'Drink', 'Tomato', 'Cot', 'Cot', 'Toilet',\n",
              "       'Soda', 'Bed', 'Pillow', 'Biscuit', 'Smoothie', 'Biscuit',\n",
              "       'Toilet', 'Spaghetti', 'Biscuit', 'Biscuit', 'Soda', 'Soda',\n",
              "       'Biscuit', 'Bed', 'Tomato', 'Bed', 'Drink', 'Drink', 'Biscuit',\n",
              "       'Pillow', 'Toilet', 'Bed', 'Biscuit', 'Steak', 'Steak', 'Drink',\n",
              "       'Biscuit', 'Drink', 'Steak', 'Tomato', 'Cot', 'Cot', 'Biscuit',\n",
              "       'Soda', 'Soda', 'Shower', 'Sofabed', 'Cot', 'Biscuit', 'Toilet',\n",
              "       'Biscuit', 'Bed', 'Spaghetti', 'Bed', 'Cot', 'Spaghetti', 'Soda',\n",
              "       'Biscuit', 'Tomato', 'Bed', 'Drink', 'Cot', 'Bed', 'Tomato',\n",
              "       'Biscuit', 'Sofabed', 'Shower', 'Cot', 'Pillow', 'Steak', 'Steak',\n",
              "       'Steak', 'Smoothie', 'Pillow', 'Cot', 'Pillow', 'Smoothie',\n",
              "       'Pillow', 'Steak', 'Drink', 'Bed', 'Pillow', 'Shower', 'Pillow',\n",
              "       'Smoothie', 'Sofabed', 'Steak', 'Drink', 'Cot', 'Spaghetti',\n",
              "       'Shower', 'Pillow', 'Shower', 'Steak', 'Spaghetti', 'Cot', 'Cot',\n",
              "       'Steak', 'Sofabed', 'Spaghetti', 'Soda', 'Steak', 'Tomato',\n",
              "       'Drink', 'Drink', 'Bed', 'Smoothie', 'Shower', 'Pillow', 'Steak',\n",
              "       'Pillow', 'Smoothie', 'Shower', 'Steak', 'Spaghetti', 'Soda',\n",
              "       'Spaghetti', 'Tomato', 'Toilet', 'Pillow', 'Spaghetti', 'Pillow',\n",
              "       'Soda', 'Spaghetti', 'Steak', 'Soda', 'Smoothie', 'Spaghetti',\n",
              "       'Cot', 'Toilet', 'Smoothie', 'Soda', 'Spaghetti', 'Toilet',\n",
              "       'Biscuit', 'Spaghetti', 'Pillow', 'Soda', 'Tomato', 'Cot', 'Soda',\n",
              "       'Bed', 'Pillow', 'Drink', 'Bed', 'Bed', 'Tomato', 'Soda'],\n",
              "      dtype=object)"
            ]
          },
          "metadata": {},
          "execution_count": 44
        }
      ]
    },
    {
      "cell_type": "code",
      "source": [
        "print('Training-set accuracy score: {0:0.4f}'. format(accuracy_score(y_train, y_pred_train)))"
      ],
      "metadata": {
        "colab": {
          "base_uri": "https://localhost:8080/"
        },
        "id": "iq35RRRmf-iM",
        "outputId": "892b7ea3-b4aa-4091-f7fc-0c8f43acc664"
      },
      "execution_count": null,
      "outputs": [
        {
          "output_type": "stream",
          "name": "stdout",
          "text": [
            "Training-set accuracy score: 0.3325\n"
          ]
        }
      ]
    },
    {
      "cell_type": "code",
      "source": [
        "# print the scores on training and test set\n",
        "\n",
        "print('Training set score: {:.4f}'.format(linear_svc.score(X_train, y_train)))\n",
        "\n",
        "print('Test set score: {:.4f}'.format(linear_svc.score(X_test, y_test)))"
      ],
      "metadata": {
        "colab": {
          "base_uri": "https://localhost:8080/"
        },
        "id": "3QJWs55Ef-lE",
        "outputId": "4f849ab5-9dbd-4b04-dbda-1db5f9352e0a"
      },
      "execution_count": null,
      "outputs": [
        {
          "output_type": "stream",
          "name": "stdout",
          "text": [
            "Training set score: 0.3325\n",
            "Test set score: 0.0865\n"
          ]
        }
      ]
    },
    {
      "cell_type": "code",
      "source": [
        "# check class distribution in test set\n",
        "\n",
        "y_test.value_counts()"
      ],
      "metadata": {
        "colab": {
          "base_uri": "https://localhost:8080/"
        },
        "id": "f-rruOTzgMvH",
        "outputId": "1ec11006-6798-4fb0-df0c-31b9d2086a8a"
      },
      "execution_count": null,
      "outputs": [
        {
          "output_type": "execute_result",
          "data": {
            "text/plain": [
              "Cot          12\n",
              "Sofabed      12\n",
              "Toilet       11\n",
              "Smoothie      9\n",
              "Tomato        9\n",
              "Drink         8\n",
              "Soda          8\n",
              "Steak         8\n",
              "Bed           7\n",
              "Biscuit       7\n",
              "Spaghetti     5\n",
              "Shower        5\n",
              "Pillow        3\n",
              "Name: label, dtype: int64"
            ]
          },
          "metadata": {},
          "execution_count": 48
        }
      ]
    },
    {
      "cell_type": "code",
      "source": [
        "# check null accuracy score\n",
        "\n",
        "null_accuracy = (12/(12+92))\n",
        "\n",
        "print('Null accuracy score: {0:0.4f}'. format(null_accuracy))"
      ],
      "metadata": {
        "colab": {
          "base_uri": "https://localhost:8080/"
        },
        "id": "y8AtfIErgNLi",
        "outputId": "21a87ef6-7c87-469d-e834-0ac12133df36"
      },
      "execution_count": null,
      "outputs": [
        {
          "output_type": "stream",
          "name": "stdout",
          "text": [
            "Null accuracy score: 0.1154\n"
          ]
        }
      ]
    },
    {
      "cell_type": "code",
      "source": [
        "# instantiate classifier with polynomial kernel and C=1.0\n",
        "poly_svc=SVC(kernel='poly', C=1.0) \n",
        "\n",
        "\n",
        "# fit classifier to training set\n",
        "poly_svc.fit(X_train,y_train)\n",
        "\n",
        "\n",
        "# make predictions on test set\n",
        "y_pred=poly_svc.predict(X_test)\n",
        "\n",
        "\n",
        "# compute and print accuracy score\n",
        "print('Model accuracy score with polynomial kernel and C=1.0 : {0:0.4f}'. format(accuracy_score(y_test, y_pred)))\n"
      ],
      "metadata": {
        "colab": {
          "base_uri": "https://localhost:8080/"
        },
        "id": "X22KGuE2gPuH",
        "outputId": "834addfa-71aa-429e-c8c7-cfee5c0c9b59"
      },
      "execution_count": null,
      "outputs": [
        {
          "output_type": "stream",
          "name": "stdout",
          "text": [
            "Model accuracy score with polynomial kernel and C=1.0 : 0.0769\n"
          ]
        }
      ]
    },
    {
      "cell_type": "code",
      "source": [
        "# instantiate classifier with polynomial kernel and C=100.0\n",
        "poly_svc100=SVC(kernel='poly', C=100.0) \n",
        "\n",
        "\n",
        "# fit classifier to training set\n",
        "poly_svc100.fit(X_train, y_train)\n",
        "\n",
        "\n",
        "# make predictions on test set\n",
        "y_pred=poly_svc100.predict(X_test)\n",
        "\n",
        "\n",
        "# compute and print accuracy score\n",
        "print('Model accuracy score with polynomial kernel and C=1.0 : {0:0.4f}'. format(accuracy_score(y_test, y_pred)))"
      ],
      "metadata": {
        "colab": {
          "base_uri": "https://localhost:8080/"
        },
        "id": "JSC25PY-gwUO",
        "outputId": "565326c1-18a2-4bae-9d13-e4162565a760"
      },
      "execution_count": null,
      "outputs": [
        {
          "output_type": "stream",
          "name": "stdout",
          "text": [
            "Model accuracy score with polynomial kernel and C=1.0 : 0.1058\n"
          ]
        }
      ]
    },
    {
      "cell_type": "code",
      "source": [
        "# instantiate classifier with sigmoid kernel and C=1.0\n",
        "sigmoid_svc=SVC(kernel='sigmoid', C=1.0) \n",
        "\n",
        "\n",
        "# fit classifier to training set\n",
        "sigmoid_svc.fit(X_train,y_train)\n",
        "\n",
        "\n",
        "# make predictions on test set\n",
        "y_pred=sigmoid_svc.predict(X_test)\n",
        "\n",
        "\n",
        "# compute and print accuracy score\n",
        "print('Model accuracy score with sigmoid kernel and C=1.0 : {0:0.4f}'. format(accuracy_score(y_test, y_pred)))\n"
      ],
      "metadata": {
        "colab": {
          "base_uri": "https://localhost:8080/"
        },
        "id": "8h7j5-tsgyIw",
        "outputId": "450a5ea3-653b-41dd-ed15-65b6dfdd4c59"
      },
      "execution_count": null,
      "outputs": [
        {
          "output_type": "stream",
          "name": "stdout",
          "text": [
            "Model accuracy score with sigmoid kernel and C=1.0 : 0.1250\n"
          ]
        }
      ]
    },
    {
      "cell_type": "code",
      "source": [
        "# instantiate classifier with sigmoid kernel and C=100.0\n",
        "sigmoid_svc100=SVC(kernel='sigmoid', C=100.0) \n",
        "\n",
        "\n",
        "# fit classifier to training set\n",
        "sigmoid_svc100.fit(X_train,y_train)\n",
        "\n",
        "\n",
        "# make predictions on test set\n",
        "y_pred=sigmoid_svc100.predict(X_test)\n",
        "\n",
        "\n",
        "# compute and print accuracy score\n",
        "print('Model accuracy score with sigmoid kernel and C=100.0 : {0:0.4f}'. format(accuracy_score(y_test, y_pred)))\n"
      ],
      "metadata": {
        "colab": {
          "base_uri": "https://localhost:8080/"
        },
        "id": "ljf5cfrHg0Aa",
        "outputId": "979faeb3-8cd6-4246-89c0-831b89976af6"
      },
      "execution_count": null,
      "outputs": [
        {
          "output_type": "stream",
          "name": "stdout",
          "text": [
            "Model accuracy score with sigmoid kernel and C=100.0 : 0.1154\n"
          ]
        }
      ]
    },
    {
      "cell_type": "code",
      "source": [
        "# Print the Confusion Matrix and slice it into four pieces\n",
        "\n",
        "from sklearn.metrics import confusion_matrix\n",
        "\n",
        "cm = confusion_matrix(y_test, y_pred_test)\n",
        "\n",
        "print('Confusion matrix\\n\\n', cm)\n",
        "\n",
        "print('\\nTrue Positives(TP) = ', cm[0,0])\n",
        "\n",
        "print('\\nTrue Negatives(TN) = ', cm[1,1])\n",
        "\n",
        "print('\\nFalse Positives(FP) = ', cm[0,1])\n",
        "\n",
        "print('\\nFalse Negatives(FN) = ', cm[1,0])"
      ],
      "metadata": {
        "colab": {
          "base_uri": "https://localhost:8080/"
        },
        "id": "BsSc24SDg1e0",
        "outputId": "5cb81e4b-cee9-4d23-86e7-fe10dc7bfd4b"
      },
      "execution_count": null,
      "outputs": [
        {
          "output_type": "stream",
          "name": "stdout",
          "text": [
            "Confusion matrix\n",
            "\n",
            " [[1 0 0 0 3 0 0 0 2 1 0 0 0]\n",
            " [0 1 2 0 0 2 0 1 0 0 0 0 1]\n",
            " [0 3 2 0 1 0 2 1 1 0 0 0 2]\n",
            " [1 0 2 0 0 0 1 0 0 1 2 1 0]\n",
            " [1 1 0 0 0 0 0 1 0 0 0 0 0]\n",
            " [0 0 0 1 0 3 0 0 0 0 0 0 1]\n",
            " [0 0 3 0 3 0 0 1 0 0 1 0 1]\n",
            " [1 3 1 0 0 1 0 0 0 0 0 0 2]\n",
            " [2 1 2 0 1 0 1 1 1 2 1 0 0]\n",
            " [0 1 0 2 0 0 0 0 0 0 2 0 0]\n",
            " [0 0 0 3 1 1 1 0 0 2 0 0 0]\n",
            " [2 0 2 1 2 0 0 0 0 2 0 1 1]\n",
            " [1 2 1 0 1 2 0 1 0 0 1 0 0]]\n",
            "\n",
            "True Positives(TP) =  1\n",
            "\n",
            "True Negatives(TN) =  1\n",
            "\n",
            "False Positives(FP) =  0\n",
            "\n",
            "False Negatives(FN) =  0\n"
          ]
        }
      ]
    },
    {
      "cell_type": "code",
      "source": [
        "from sklearn.metrics import classification_report\n",
        "\n",
        "print(\"Using SVM\")\n",
        "print(classification_report(y_test, y_pred_test))"
      ],
      "metadata": {
        "colab": {
          "base_uri": "https://localhost:8080/"
        },
        "id": "rADeJrm1g5In",
        "outputId": "491f91b2-b249-4a72-d069-4e65af5f3634"
      },
      "execution_count": null,
      "outputs": [
        {
          "output_type": "stream",
          "name": "stdout",
          "text": [
            "Using SVM\n",
            "              precision    recall  f1-score   support\n",
            "\n",
            "         Bed       0.11      0.14      0.12         7\n",
            "     Biscuit       0.08      0.14      0.11         7\n",
            "         Cot       0.13      0.17      0.15        12\n",
            "       Drink       0.00      0.00      0.00         8\n",
            "      Pillow       0.00      0.00      0.00         3\n",
            "      Shower       0.33      0.60      0.43         5\n",
            "    Smoothie       0.00      0.00      0.00         9\n",
            "        Soda       0.00      0.00      0.00         8\n",
            "     Sofabed       0.25      0.08      0.12        12\n",
            "   Spaghetti       0.00      0.00      0.00         5\n",
            "       Steak       0.00      0.00      0.00         8\n",
            "      Toilet       0.50      0.09      0.15        11\n",
            "      Tomato       0.00      0.00      0.00         9\n",
            "\n",
            "    accuracy                           0.09       104\n",
            "   macro avg       0.11      0.09      0.08       104\n",
            "weighted avg       0.13      0.09      0.08       104\n",
            "\n"
          ]
        }
      ]
    },
    {
      "cell_type": "code",
      "source": [],
      "metadata": {
        "id": "0hqJyqvHhgtR"
      },
      "execution_count": null,
      "outputs": []
    }
  ],
  "metadata": {
    "colab": {
      "provenance": []
    },
    "kernelspec": {
      "display_name": "Python 3",
      "name": "python3"
    },
    "language_info": {
      "name": "python"
    }
  },
  "nbformat": 4,
  "nbformat_minor": 0
}