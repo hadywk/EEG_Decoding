{
  "cells": [
    {
      "cell_type": "code",
      "execution_count": null,
      "metadata": {
        "colab": {
          "base_uri": "https://localhost:8080/"
        },
        "id": "YOvmetITsNdN",
        "outputId": "12d01e2b-7b20-4ee8-d2d1-762227de4ec1"
      },
      "outputs": [
        {
          "output_type": "stream",
          "name": "stdout",
          "text": [
            "Mounted at /content/gdrive/\n"
          ]
        }
      ],
      "source": [
        "# Modules\n",
        "from matplotlib.image import imread\n",
        "import numpy as np # linear algebra\n",
        "import pandas as pd # data processing, CSV file I/O (e.g. pd.read_csv)\n",
        "import matplotlib.pyplot as plt # for data visualization\n",
        "import seaborn as sns # for statistical data visualization\n",
        "%matplotlib inline\n",
        "\n",
        "\n",
        "from warnings import filterwarnings\n",
        "\n",
        "\n",
        "from google.colab import drive\n",
        "import warnings\n",
        "\n",
        "warnings.filterwarnings('ignore')\n",
        "drive.mount('/content/gdrive/', force_remount=True)"
      ]
    },
    {
      "cell_type": "code",
      "execution_count": null,
      "metadata": {
        "colab": {
          "base_uri": "https://localhost:8080/",
          "height": 206
        },
        "id": "Q_VFSsrS9Xtk",
        "outputId": "fa8e3d45-cdda-464f-a5aa-9a08f8da966f"
      },
      "outputs": [
        {
          "output_type": "execute_result",
          "data": {
            "text/plain": [
              "         Pz        P3        P7        O1        Oz        O2        P4  \\\n",
              "0  0.949867 -0.412790 -0.322089  0.751464  1.817943  1.433026  0.689987   \n",
              "1 -1.438008 -0.619738 -1.026245 -0.856272 -0.683106 -0.478521  0.074579   \n",
              "2 -1.473790 -0.968607 -1.147936  0.967766  0.324674  0.510022  0.345058   \n",
              "3 -0.172934  1.165387  1.207597  1.366681  0.932849  0.162062 -0.569059   \n",
              "4  0.367294  0.017011 -1.681696 -0.910858 -0.515992 -0.315080  0.925285   \n",
              "\n",
              "         P8        P1        P5       PO7       PO3       POz       PO4  \\\n",
              "0 -1.054576 -0.381360 -0.237432  0.610876  0.807887 -0.387744  0.836812   \n",
              "1 -1.367111 -0.474807 -0.182218 -0.561408 -1.596942 -1.876672  0.168698   \n",
              "2 -0.929844 -0.844814 -0.824933 -0.936504 -0.546616 -0.033366  0.165388   \n",
              "3 -0.857833  0.891493  1.323472  0.894634  0.554903 -0.872456 -0.683542   \n",
              "4 -0.210909  0.425723  0.070810 -1.161866  1.156145 -0.034877  0.933107   \n",
              "\n",
              "        PO8        P6        P2    label  \n",
              "0  0.031605  0.180892  0.713202  Biscuit  \n",
              "1 -0.243984  0.033856 -1.331574  Biscuit  \n",
              "2 -0.772637 -0.966099  0.024178  Biscuit  \n",
              "3 -0.588627 -2.013185 -1.028050  Biscuit  \n",
              "4 -0.123902  1.200219  0.547526  Biscuit  "
            ],
            "text/html": [
              "\n",
              "  <div id=\"df-b94884a1-1834-45bc-a2ad-9bf6ed521adb\">\n",
              "    <div class=\"colab-df-container\">\n",
              "      <div>\n",
              "<style scoped>\n",
              "    .dataframe tbody tr th:only-of-type {\n",
              "        vertical-align: middle;\n",
              "    }\n",
              "\n",
              "    .dataframe tbody tr th {\n",
              "        vertical-align: top;\n",
              "    }\n",
              "\n",
              "    .dataframe thead th {\n",
              "        text-align: right;\n",
              "    }\n",
              "</style>\n",
              "<table border=\"1\" class=\"dataframe\">\n",
              "  <thead>\n",
              "    <tr style=\"text-align: right;\">\n",
              "      <th></th>\n",
              "      <th>Pz</th>\n",
              "      <th>P3</th>\n",
              "      <th>P7</th>\n",
              "      <th>O1</th>\n",
              "      <th>Oz</th>\n",
              "      <th>O2</th>\n",
              "      <th>P4</th>\n",
              "      <th>P8</th>\n",
              "      <th>P1</th>\n",
              "      <th>P5</th>\n",
              "      <th>PO7</th>\n",
              "      <th>PO3</th>\n",
              "      <th>POz</th>\n",
              "      <th>PO4</th>\n",
              "      <th>PO8</th>\n",
              "      <th>P6</th>\n",
              "      <th>P2</th>\n",
              "      <th>label</th>\n",
              "    </tr>\n",
              "  </thead>\n",
              "  <tbody>\n",
              "    <tr>\n",
              "      <th>0</th>\n",
              "      <td>0.949867</td>\n",
              "      <td>-0.412790</td>\n",
              "      <td>-0.322089</td>\n",
              "      <td>0.751464</td>\n",
              "      <td>1.817943</td>\n",
              "      <td>1.433026</td>\n",
              "      <td>0.689987</td>\n",
              "      <td>-1.054576</td>\n",
              "      <td>-0.381360</td>\n",
              "      <td>-0.237432</td>\n",
              "      <td>0.610876</td>\n",
              "      <td>0.807887</td>\n",
              "      <td>-0.387744</td>\n",
              "      <td>0.836812</td>\n",
              "      <td>0.031605</td>\n",
              "      <td>0.180892</td>\n",
              "      <td>0.713202</td>\n",
              "      <td>Biscuit</td>\n",
              "    </tr>\n",
              "    <tr>\n",
              "      <th>1</th>\n",
              "      <td>-1.438008</td>\n",
              "      <td>-0.619738</td>\n",
              "      <td>-1.026245</td>\n",
              "      <td>-0.856272</td>\n",
              "      <td>-0.683106</td>\n",
              "      <td>-0.478521</td>\n",
              "      <td>0.074579</td>\n",
              "      <td>-1.367111</td>\n",
              "      <td>-0.474807</td>\n",
              "      <td>-0.182218</td>\n",
              "      <td>-0.561408</td>\n",
              "      <td>-1.596942</td>\n",
              "      <td>-1.876672</td>\n",
              "      <td>0.168698</td>\n",
              "      <td>-0.243984</td>\n",
              "      <td>0.033856</td>\n",
              "      <td>-1.331574</td>\n",
              "      <td>Biscuit</td>\n",
              "    </tr>\n",
              "    <tr>\n",
              "      <th>2</th>\n",
              "      <td>-1.473790</td>\n",
              "      <td>-0.968607</td>\n",
              "      <td>-1.147936</td>\n",
              "      <td>0.967766</td>\n",
              "      <td>0.324674</td>\n",
              "      <td>0.510022</td>\n",
              "      <td>0.345058</td>\n",
              "      <td>-0.929844</td>\n",
              "      <td>-0.844814</td>\n",
              "      <td>-0.824933</td>\n",
              "      <td>-0.936504</td>\n",
              "      <td>-0.546616</td>\n",
              "      <td>-0.033366</td>\n",
              "      <td>0.165388</td>\n",
              "      <td>-0.772637</td>\n",
              "      <td>-0.966099</td>\n",
              "      <td>0.024178</td>\n",
              "      <td>Biscuit</td>\n",
              "    </tr>\n",
              "    <tr>\n",
              "      <th>3</th>\n",
              "      <td>-0.172934</td>\n",
              "      <td>1.165387</td>\n",
              "      <td>1.207597</td>\n",
              "      <td>1.366681</td>\n",
              "      <td>0.932849</td>\n",
              "      <td>0.162062</td>\n",
              "      <td>-0.569059</td>\n",
              "      <td>-0.857833</td>\n",
              "      <td>0.891493</td>\n",
              "      <td>1.323472</td>\n",
              "      <td>0.894634</td>\n",
              "      <td>0.554903</td>\n",
              "      <td>-0.872456</td>\n",
              "      <td>-0.683542</td>\n",
              "      <td>-0.588627</td>\n",
              "      <td>-2.013185</td>\n",
              "      <td>-1.028050</td>\n",
              "      <td>Biscuit</td>\n",
              "    </tr>\n",
              "    <tr>\n",
              "      <th>4</th>\n",
              "      <td>0.367294</td>\n",
              "      <td>0.017011</td>\n",
              "      <td>-1.681696</td>\n",
              "      <td>-0.910858</td>\n",
              "      <td>-0.515992</td>\n",
              "      <td>-0.315080</td>\n",
              "      <td>0.925285</td>\n",
              "      <td>-0.210909</td>\n",
              "      <td>0.425723</td>\n",
              "      <td>0.070810</td>\n",
              "      <td>-1.161866</td>\n",
              "      <td>1.156145</td>\n",
              "      <td>-0.034877</td>\n",
              "      <td>0.933107</td>\n",
              "      <td>-0.123902</td>\n",
              "      <td>1.200219</td>\n",
              "      <td>0.547526</td>\n",
              "      <td>Biscuit</td>\n",
              "    </tr>\n",
              "  </tbody>\n",
              "</table>\n",
              "</div>\n",
              "      <button class=\"colab-df-convert\" onclick=\"convertToInteractive('df-b94884a1-1834-45bc-a2ad-9bf6ed521adb')\"\n",
              "              title=\"Convert this dataframe to an interactive table.\"\n",
              "              style=\"display:none;\">\n",
              "        \n",
              "  <svg xmlns=\"http://www.w3.org/2000/svg\" height=\"24px\"viewBox=\"0 0 24 24\"\n",
              "       width=\"24px\">\n",
              "    <path d=\"M0 0h24v24H0V0z\" fill=\"none\"/>\n",
              "    <path d=\"M18.56 5.44l.94 2.06.94-2.06 2.06-.94-2.06-.94-.94-2.06-.94 2.06-2.06.94zm-11 1L8.5 8.5l.94-2.06 2.06-.94-2.06-.94L8.5 2.5l-.94 2.06-2.06.94zm10 10l.94 2.06.94-2.06 2.06-.94-2.06-.94-.94-2.06-.94 2.06-2.06.94z\"/><path d=\"M17.41 7.96l-1.37-1.37c-.4-.4-.92-.59-1.43-.59-.52 0-1.04.2-1.43.59L10.3 9.45l-7.72 7.72c-.78.78-.78 2.05 0 2.83L4 21.41c.39.39.9.59 1.41.59.51 0 1.02-.2 1.41-.59l7.78-7.78 2.81-2.81c.8-.78.8-2.07 0-2.86zM5.41 20L4 18.59l7.72-7.72 1.47 1.35L5.41 20z\"/>\n",
              "  </svg>\n",
              "      </button>\n",
              "      \n",
              "  <style>\n",
              "    .colab-df-container {\n",
              "      display:flex;\n",
              "      flex-wrap:wrap;\n",
              "      gap: 12px;\n",
              "    }\n",
              "\n",
              "    .colab-df-convert {\n",
              "      background-color: #E8F0FE;\n",
              "      border: none;\n",
              "      border-radius: 50%;\n",
              "      cursor: pointer;\n",
              "      display: none;\n",
              "      fill: #1967D2;\n",
              "      height: 32px;\n",
              "      padding: 0 0 0 0;\n",
              "      width: 32px;\n",
              "    }\n",
              "\n",
              "    .colab-df-convert:hover {\n",
              "      background-color: #E2EBFA;\n",
              "      box-shadow: 0px 1px 2px rgba(60, 64, 67, 0.3), 0px 1px 3px 1px rgba(60, 64, 67, 0.15);\n",
              "      fill: #174EA6;\n",
              "    }\n",
              "\n",
              "    [theme=dark] .colab-df-convert {\n",
              "      background-color: #3B4455;\n",
              "      fill: #D2E3FC;\n",
              "    }\n",
              "\n",
              "    [theme=dark] .colab-df-convert:hover {\n",
              "      background-color: #434B5C;\n",
              "      box-shadow: 0px 1px 3px 1px rgba(0, 0, 0, 0.15);\n",
              "      filter: drop-shadow(0px 1px 2px rgba(0, 0, 0, 0.3));\n",
              "      fill: #FFFFFF;\n",
              "    }\n",
              "  </style>\n",
              "\n",
              "      <script>\n",
              "        const buttonEl =\n",
              "          document.querySelector('#df-b94884a1-1834-45bc-a2ad-9bf6ed521adb button.colab-df-convert');\n",
              "        buttonEl.style.display =\n",
              "          google.colab.kernel.accessAllowed ? 'block' : 'none';\n",
              "\n",
              "        async function convertToInteractive(key) {\n",
              "          const element = document.querySelector('#df-b94884a1-1834-45bc-a2ad-9bf6ed521adb');\n",
              "          const dataTable =\n",
              "            await google.colab.kernel.invokeFunction('convertToInteractive',\n",
              "                                                     [key], {});\n",
              "          if (!dataTable) return;\n",
              "\n",
              "          const docLinkHtml = 'Like what you see? Visit the ' +\n",
              "            '<a target=\"_blank\" href=https://colab.research.google.com/notebooks/data_table.ipynb>data table notebook</a>'\n",
              "            + ' to learn more about interactive tables.';\n",
              "          element.innerHTML = '';\n",
              "          dataTable['output_type'] = 'display_data';\n",
              "          await google.colab.output.renderOutput(dataTable, element);\n",
              "          const docLink = document.createElement('div');\n",
              "          docLink.innerHTML = docLinkHtml;\n",
              "          element.appendChild(docLink);\n",
              "        }\n",
              "      </script>\n",
              "    </div>\n",
              "  </div>\n",
              "  "
            ]
          },
          "metadata": {},
          "execution_count": 3
        }
      ],
      "source": [
        "\n",
        "# Import the data\n",
        "df = pd.read_csv(\"/content/gdrive/MyDrive/OLD_data_eeg_in_csv.csv\")\n",
        "\n",
        "df.head()\n"
      ]
    },
    {
      "cell_type": "code",
      "source": [
        "df.shape\n",
        "#160 row, 18 columns "
      ],
      "metadata": {
        "colab": {
          "base_uri": "https://localhost:8080/"
        },
        "id": "UoFc3iuRZUtb",
        "outputId": "348aaecf-c4f7-4d61-daaf-338efefc3dd0"
      },
      "execution_count": null,
      "outputs": [
        {
          "output_type": "execute_result",
          "data": {
            "text/plain": [
              "(160, 18)"
            ]
          },
          "metadata": {},
          "execution_count": 5
        }
      ]
    },
    {
      "cell_type": "code",
      "source": [
        "col_names = df.columns\n",
        "\n",
        "col_names"
      ],
      "metadata": {
        "colab": {
          "base_uri": "https://localhost:8080/"
        },
        "id": "vPVYfGelZaWU",
        "outputId": "34cc0f2d-707b-4bcd-c084-55845ca9031d"
      },
      "execution_count": null,
      "outputs": [
        {
          "output_type": "execute_result",
          "data": {
            "text/plain": [
              "Index(['Pz', 'P3', 'P7', 'O1', 'Oz', 'O2', 'P4', 'P8', 'P1', 'P5', 'PO7',\n",
              "       'PO3', 'POz', 'PO4', 'PO8', 'P6', 'P2', 'label'],\n",
              "      dtype='object')"
            ]
          },
          "metadata": {},
          "execution_count": 6
        }
      ]
    },
    {
      "cell_type": "code",
      "source": [
        "# check distribution of target_class column\n",
        "df['label'].value_counts()"
      ],
      "metadata": {
        "colab": {
          "base_uri": "https://localhost:8080/"
        },
        "id": "GD3Cr9ICZ1Lo",
        "outputId": "6925d724-f12e-46c5-b319-a3c90521c141"
      },
      "execution_count": null,
      "outputs": [
        {
          "output_type": "execute_result",
          "data": {
            "text/plain": [
              "Biscuit    40\n",
              "Bed        40\n",
              "Drink      40\n",
              "Toilet     40\n",
              "Name: label, dtype: int64"
            ]
          },
          "metadata": {},
          "execution_count": 7
        }
      ]
    },
    {
      "cell_type": "code",
      "source": [
        "# view the percentage distribution of target_class column\n",
        "df['label'].value_counts()/np.float(len(df))"
      ],
      "metadata": {
        "colab": {
          "base_uri": "https://localhost:8080/"
        },
        "id": "mhFqFmLnaSk_",
        "outputId": "7199a452-7348-4928-e7f3-214b2fc1d4a2"
      },
      "execution_count": null,
      "outputs": [
        {
          "output_type": "execute_result",
          "data": {
            "text/plain": [
              "Biscuit    0.25\n",
              "Bed        0.25\n",
              "Drink      0.25\n",
              "Toilet     0.25\n",
              "Name: label, dtype: float64"
            ]
          },
          "metadata": {},
          "execution_count": 8
        }
      ]
    },
    {
      "cell_type": "code",
      "source": [
        "df.info()"
      ],
      "metadata": {
        "colab": {
          "base_uri": "https://localhost:8080/"
        },
        "id": "1TaRq5KTaWON",
        "outputId": "1b7fb463-c716-423a-ef51-ff4c18872c21"
      },
      "execution_count": null,
      "outputs": [
        {
          "output_type": "stream",
          "name": "stdout",
          "text": [
            "<class 'pandas.core.frame.DataFrame'>\n",
            "RangeIndex: 160 entries, 0 to 159\n",
            "Data columns (total 18 columns):\n",
            " #   Column  Non-Null Count  Dtype  \n",
            "---  ------  --------------  -----  \n",
            " 0   Pz      160 non-null    float64\n",
            " 1   P3      160 non-null    float64\n",
            " 2   P7      160 non-null    float64\n",
            " 3   O1      160 non-null    float64\n",
            " 4   Oz      160 non-null    float64\n",
            " 5   O2      160 non-null    float64\n",
            " 6   P4      160 non-null    float64\n",
            " 7   P8      160 non-null    float64\n",
            " 8   P1      160 non-null    float64\n",
            " 9   P5      160 non-null    float64\n",
            " 10  PO7     160 non-null    float64\n",
            " 11  PO3     160 non-null    float64\n",
            " 12  POz     160 non-null    float64\n",
            " 13  PO4     160 non-null    float64\n",
            " 14  PO8     160 non-null    float64\n",
            " 15  P6      160 non-null    float64\n",
            " 16  P2      160 non-null    float64\n",
            " 17  label   160 non-null    object \n",
            "dtypes: float64(17), object(1)\n",
            "memory usage: 22.6+ KB\n"
          ]
        }
      ]
    },
    {
      "cell_type": "code",
      "source": [
        "# check for missing values in variables\n",
        "df.isnull().sum()"
      ],
      "metadata": {
        "colab": {
          "base_uri": "https://localhost:8080/"
        },
        "id": "WjSinzQSaYtb",
        "outputId": "3e60c230-b1cc-4cd4-a871-a1e856532675"
      },
      "execution_count": null,
      "outputs": [
        {
          "output_type": "execute_result",
          "data": {
            "text/plain": [
              "Pz       0\n",
              "P3       0\n",
              "P7       0\n",
              "O1       0\n",
              "Oz       0\n",
              "O2       0\n",
              "P4       0\n",
              "P8       0\n",
              "P1       0\n",
              "P5       0\n",
              "PO7      0\n",
              "PO3      0\n",
              "POz      0\n",
              "PO4      0\n",
              "PO8      0\n",
              "P6       0\n",
              "P2       0\n",
              "label    0\n",
              "dtype: int64"
            ]
          },
          "metadata": {},
          "execution_count": 10
        }
      ]
    },
    {
      "cell_type": "code",
      "source": [
        "# view summary statistics in numerical variables\n",
        "\n",
        "round(df.describe(),2)"
      ],
      "metadata": {
        "colab": {
          "base_uri": "https://localhost:8080/",
          "height": 300
        },
        "id": "k4_GOUZZabZb",
        "outputId": "34bd153c-8ba6-45dd-c331-b92c8ddb2cde"
      },
      "execution_count": null,
      "outputs": [
        {
          "output_type": "execute_result",
          "data": {
            "text/plain": [
              "           Pz      P3      P7      O1      Oz      O2      P4      P8      P1  \\\n",
              "count  160.00  160.00  160.00  160.00  160.00  160.00  160.00  160.00  160.00   \n",
              "mean     0.18   -0.21   -0.25   -0.12    0.19    0.10   -0.01   -0.10    0.08   \n",
              "std      0.99    0.95    1.61    0.88    0.91    0.90    0.81    1.01    0.97   \n",
              "min     -2.69   -2.95  -18.80   -3.05   -2.55   -2.20   -2.88   -3.30   -3.68   \n",
              "25%     -0.38   -0.91   -0.30   -0.64   -0.46   -0.46   -0.51   -0.71   -0.37   \n",
              "50%      0.18   -0.21   -0.06   -0.17    0.27    0.08   -0.03   -0.09    0.10   \n",
              "75%      0.79    0.46    0.09    0.49    0.81    0.60    0.54    0.55    0.64   \n",
              "max      2.58    2.09    2.23    2.32    2.98    2.79    1.63    3.57    3.03   \n",
              "\n",
              "           P5     PO7     PO3     POz     PO4     PO8      P6      P2  \n",
              "count  160.00  160.00  160.00  160.00  160.00  160.00  160.00  160.00  \n",
              "mean    -0.27   -0.24   -0.06    0.25    0.02   -0.13   -0.09    0.10  \n",
              "std      1.00    0.83    0.87    1.02    0.87    0.91    0.91    0.84  \n",
              "min     -3.34   -3.07   -2.61   -2.38   -2.26   -2.41   -2.42   -1.79  \n",
              "25%     -0.93   -0.77   -0.64   -0.46   -0.55   -0.66   -0.68   -0.53  \n",
              "50%     -0.26   -0.30   -0.12    0.22   -0.05   -0.17   -0.09    0.05  \n",
              "75%      0.39    0.24    0.60    1.03    0.60    0.38    0.49    0.57  \n",
              "max      2.55    1.88    2.13    2.75    2.54    2.60    2.26    4.63  "
            ],
            "text/html": [
              "\n",
              "  <div id=\"df-7f6e2073-3a94-41ff-b99c-d941324d8bda\">\n",
              "    <div class=\"colab-df-container\">\n",
              "      <div>\n",
              "<style scoped>\n",
              "    .dataframe tbody tr th:only-of-type {\n",
              "        vertical-align: middle;\n",
              "    }\n",
              "\n",
              "    .dataframe tbody tr th {\n",
              "        vertical-align: top;\n",
              "    }\n",
              "\n",
              "    .dataframe thead th {\n",
              "        text-align: right;\n",
              "    }\n",
              "</style>\n",
              "<table border=\"1\" class=\"dataframe\">\n",
              "  <thead>\n",
              "    <tr style=\"text-align: right;\">\n",
              "      <th></th>\n",
              "      <th>Pz</th>\n",
              "      <th>P3</th>\n",
              "      <th>P7</th>\n",
              "      <th>O1</th>\n",
              "      <th>Oz</th>\n",
              "      <th>O2</th>\n",
              "      <th>P4</th>\n",
              "      <th>P8</th>\n",
              "      <th>P1</th>\n",
              "      <th>P5</th>\n",
              "      <th>PO7</th>\n",
              "      <th>PO3</th>\n",
              "      <th>POz</th>\n",
              "      <th>PO4</th>\n",
              "      <th>PO8</th>\n",
              "      <th>P6</th>\n",
              "      <th>P2</th>\n",
              "    </tr>\n",
              "  </thead>\n",
              "  <tbody>\n",
              "    <tr>\n",
              "      <th>count</th>\n",
              "      <td>160.00</td>\n",
              "      <td>160.00</td>\n",
              "      <td>160.00</td>\n",
              "      <td>160.00</td>\n",
              "      <td>160.00</td>\n",
              "      <td>160.00</td>\n",
              "      <td>160.00</td>\n",
              "      <td>160.00</td>\n",
              "      <td>160.00</td>\n",
              "      <td>160.00</td>\n",
              "      <td>160.00</td>\n",
              "      <td>160.00</td>\n",
              "      <td>160.00</td>\n",
              "      <td>160.00</td>\n",
              "      <td>160.00</td>\n",
              "      <td>160.00</td>\n",
              "      <td>160.00</td>\n",
              "    </tr>\n",
              "    <tr>\n",
              "      <th>mean</th>\n",
              "      <td>0.18</td>\n",
              "      <td>-0.21</td>\n",
              "      <td>-0.25</td>\n",
              "      <td>-0.12</td>\n",
              "      <td>0.19</td>\n",
              "      <td>0.10</td>\n",
              "      <td>-0.01</td>\n",
              "      <td>-0.10</td>\n",
              "      <td>0.08</td>\n",
              "      <td>-0.27</td>\n",
              "      <td>-0.24</td>\n",
              "      <td>-0.06</td>\n",
              "      <td>0.25</td>\n",
              "      <td>0.02</td>\n",
              "      <td>-0.13</td>\n",
              "      <td>-0.09</td>\n",
              "      <td>0.10</td>\n",
              "    </tr>\n",
              "    <tr>\n",
              "      <th>std</th>\n",
              "      <td>0.99</td>\n",
              "      <td>0.95</td>\n",
              "      <td>1.61</td>\n",
              "      <td>0.88</td>\n",
              "      <td>0.91</td>\n",
              "      <td>0.90</td>\n",
              "      <td>0.81</td>\n",
              "      <td>1.01</td>\n",
              "      <td>0.97</td>\n",
              "      <td>1.00</td>\n",
              "      <td>0.83</td>\n",
              "      <td>0.87</td>\n",
              "      <td>1.02</td>\n",
              "      <td>0.87</td>\n",
              "      <td>0.91</td>\n",
              "      <td>0.91</td>\n",
              "      <td>0.84</td>\n",
              "    </tr>\n",
              "    <tr>\n",
              "      <th>min</th>\n",
              "      <td>-2.69</td>\n",
              "      <td>-2.95</td>\n",
              "      <td>-18.80</td>\n",
              "      <td>-3.05</td>\n",
              "      <td>-2.55</td>\n",
              "      <td>-2.20</td>\n",
              "      <td>-2.88</td>\n",
              "      <td>-3.30</td>\n",
              "      <td>-3.68</td>\n",
              "      <td>-3.34</td>\n",
              "      <td>-3.07</td>\n",
              "      <td>-2.61</td>\n",
              "      <td>-2.38</td>\n",
              "      <td>-2.26</td>\n",
              "      <td>-2.41</td>\n",
              "      <td>-2.42</td>\n",
              "      <td>-1.79</td>\n",
              "    </tr>\n",
              "    <tr>\n",
              "      <th>25%</th>\n",
              "      <td>-0.38</td>\n",
              "      <td>-0.91</td>\n",
              "      <td>-0.30</td>\n",
              "      <td>-0.64</td>\n",
              "      <td>-0.46</td>\n",
              "      <td>-0.46</td>\n",
              "      <td>-0.51</td>\n",
              "      <td>-0.71</td>\n",
              "      <td>-0.37</td>\n",
              "      <td>-0.93</td>\n",
              "      <td>-0.77</td>\n",
              "      <td>-0.64</td>\n",
              "      <td>-0.46</td>\n",
              "      <td>-0.55</td>\n",
              "      <td>-0.66</td>\n",
              "      <td>-0.68</td>\n",
              "      <td>-0.53</td>\n",
              "    </tr>\n",
              "    <tr>\n",
              "      <th>50%</th>\n",
              "      <td>0.18</td>\n",
              "      <td>-0.21</td>\n",
              "      <td>-0.06</td>\n",
              "      <td>-0.17</td>\n",
              "      <td>0.27</td>\n",
              "      <td>0.08</td>\n",
              "      <td>-0.03</td>\n",
              "      <td>-0.09</td>\n",
              "      <td>0.10</td>\n",
              "      <td>-0.26</td>\n",
              "      <td>-0.30</td>\n",
              "      <td>-0.12</td>\n",
              "      <td>0.22</td>\n",
              "      <td>-0.05</td>\n",
              "      <td>-0.17</td>\n",
              "      <td>-0.09</td>\n",
              "      <td>0.05</td>\n",
              "    </tr>\n",
              "    <tr>\n",
              "      <th>75%</th>\n",
              "      <td>0.79</td>\n",
              "      <td>0.46</td>\n",
              "      <td>0.09</td>\n",
              "      <td>0.49</td>\n",
              "      <td>0.81</td>\n",
              "      <td>0.60</td>\n",
              "      <td>0.54</td>\n",
              "      <td>0.55</td>\n",
              "      <td>0.64</td>\n",
              "      <td>0.39</td>\n",
              "      <td>0.24</td>\n",
              "      <td>0.60</td>\n",
              "      <td>1.03</td>\n",
              "      <td>0.60</td>\n",
              "      <td>0.38</td>\n",
              "      <td>0.49</td>\n",
              "      <td>0.57</td>\n",
              "    </tr>\n",
              "    <tr>\n",
              "      <th>max</th>\n",
              "      <td>2.58</td>\n",
              "      <td>2.09</td>\n",
              "      <td>2.23</td>\n",
              "      <td>2.32</td>\n",
              "      <td>2.98</td>\n",
              "      <td>2.79</td>\n",
              "      <td>1.63</td>\n",
              "      <td>3.57</td>\n",
              "      <td>3.03</td>\n",
              "      <td>2.55</td>\n",
              "      <td>1.88</td>\n",
              "      <td>2.13</td>\n",
              "      <td>2.75</td>\n",
              "      <td>2.54</td>\n",
              "      <td>2.60</td>\n",
              "      <td>2.26</td>\n",
              "      <td>4.63</td>\n",
              "    </tr>\n",
              "  </tbody>\n",
              "</table>\n",
              "</div>\n",
              "      <button class=\"colab-df-convert\" onclick=\"convertToInteractive('df-7f6e2073-3a94-41ff-b99c-d941324d8bda')\"\n",
              "              title=\"Convert this dataframe to an interactive table.\"\n",
              "              style=\"display:none;\">\n",
              "        \n",
              "  <svg xmlns=\"http://www.w3.org/2000/svg\" height=\"24px\"viewBox=\"0 0 24 24\"\n",
              "       width=\"24px\">\n",
              "    <path d=\"M0 0h24v24H0V0z\" fill=\"none\"/>\n",
              "    <path d=\"M18.56 5.44l.94 2.06.94-2.06 2.06-.94-2.06-.94-.94-2.06-.94 2.06-2.06.94zm-11 1L8.5 8.5l.94-2.06 2.06-.94-2.06-.94L8.5 2.5l-.94 2.06-2.06.94zm10 10l.94 2.06.94-2.06 2.06-.94-2.06-.94-.94-2.06-.94 2.06-2.06.94z\"/><path d=\"M17.41 7.96l-1.37-1.37c-.4-.4-.92-.59-1.43-.59-.52 0-1.04.2-1.43.59L10.3 9.45l-7.72 7.72c-.78.78-.78 2.05 0 2.83L4 21.41c.39.39.9.59 1.41.59.51 0 1.02-.2 1.41-.59l7.78-7.78 2.81-2.81c.8-.78.8-2.07 0-2.86zM5.41 20L4 18.59l7.72-7.72 1.47 1.35L5.41 20z\"/>\n",
              "  </svg>\n",
              "      </button>\n",
              "      \n",
              "  <style>\n",
              "    .colab-df-container {\n",
              "      display:flex;\n",
              "      flex-wrap:wrap;\n",
              "      gap: 12px;\n",
              "    }\n",
              "\n",
              "    .colab-df-convert {\n",
              "      background-color: #E8F0FE;\n",
              "      border: none;\n",
              "      border-radius: 50%;\n",
              "      cursor: pointer;\n",
              "      display: none;\n",
              "      fill: #1967D2;\n",
              "      height: 32px;\n",
              "      padding: 0 0 0 0;\n",
              "      width: 32px;\n",
              "    }\n",
              "\n",
              "    .colab-df-convert:hover {\n",
              "      background-color: #E2EBFA;\n",
              "      box-shadow: 0px 1px 2px rgba(60, 64, 67, 0.3), 0px 1px 3px 1px rgba(60, 64, 67, 0.15);\n",
              "      fill: #174EA6;\n",
              "    }\n",
              "\n",
              "    [theme=dark] .colab-df-convert {\n",
              "      background-color: #3B4455;\n",
              "      fill: #D2E3FC;\n",
              "    }\n",
              "\n",
              "    [theme=dark] .colab-df-convert:hover {\n",
              "      background-color: #434B5C;\n",
              "      box-shadow: 0px 1px 3px 1px rgba(0, 0, 0, 0.15);\n",
              "      filter: drop-shadow(0px 1px 2px rgba(0, 0, 0, 0.3));\n",
              "      fill: #FFFFFF;\n",
              "    }\n",
              "  </style>\n",
              "\n",
              "      <script>\n",
              "        const buttonEl =\n",
              "          document.querySelector('#df-7f6e2073-3a94-41ff-b99c-d941324d8bda button.colab-df-convert');\n",
              "        buttonEl.style.display =\n",
              "          google.colab.kernel.accessAllowed ? 'block' : 'none';\n",
              "\n",
              "        async function convertToInteractive(key) {\n",
              "          const element = document.querySelector('#df-7f6e2073-3a94-41ff-b99c-d941324d8bda');\n",
              "          const dataTable =\n",
              "            await google.colab.kernel.invokeFunction('convertToInteractive',\n",
              "                                                     [key], {});\n",
              "          if (!dataTable) return;\n",
              "\n",
              "          const docLinkHtml = 'Like what you see? Visit the ' +\n",
              "            '<a target=\"_blank\" href=https://colab.research.google.com/notebooks/data_table.ipynb>data table notebook</a>'\n",
              "            + ' to learn more about interactive tables.';\n",
              "          element.innerHTML = '';\n",
              "          dataTable['output_type'] = 'display_data';\n",
              "          await google.colab.output.renderOutput(dataTable, element);\n",
              "          const docLink = document.createElement('div');\n",
              "          docLink.innerHTML = docLinkHtml;\n",
              "          element.appendChild(docLink);\n",
              "        }\n",
              "      </script>\n",
              "    </div>\n",
              "  </div>\n",
              "  "
            ]
          },
          "metadata": {},
          "execution_count": 11
        }
      ]
    },
    {
      "cell_type": "code",
      "source": [
        "# draw boxplots to visualize outliers\n",
        "\n",
        "plt.figure(figsize=(24,20))\n",
        "\n",
        "\n",
        "plt.subplot(4, 2, 1)\n",
        "fig = df.boxplot(column='Pz')\n",
        "fig.set_title('')\n",
        "fig.set_ylabel('Pz')\n",
        "\n",
        "\n",
        "plt.subplot(4, 2, 2)\n",
        "fig = df.boxplot(column='P3')\n",
        "fig.set_title('')\n",
        "fig.set_ylabel('P3')\n",
        "\n",
        "\n",
        "plt.subplot(4, 2, 3)\n",
        "fig = df.boxplot(column='P7')\n",
        "fig.set_title('')\n",
        "fig.set_ylabel('P7')\n",
        "\n",
        "\n",
        "plt.subplot(4, 2, 4)\n",
        "fig = df.boxplot(column='O1')\n",
        "fig.set_title('')\n",
        "fig.set_ylabel('O1')\n",
        "\n",
        "\n",
        "plt.subplot(4, 2, 5)\n",
        "fig = df.boxplot(column='Oz')\n",
        "fig.set_title('')\n",
        "fig.set_ylabel('Oz')\n",
        "\n",
        "\n",
        "plt.subplot(4, 2, 6)\n",
        "fig = df.boxplot(column='O2')\n",
        "fig.set_title('')\n",
        "fig.set_ylabel('O2')\n",
        "\n",
        "\n",
        "plt.subplot(4, 2, 7)\n",
        "fig = df.boxplot(column='P4')\n",
        "fig.set_title('')\n",
        "fig.set_ylabel('P4')\n",
        "\n",
        "\n",
        "plt.subplot(4, 2, 8)\n",
        "fig = df.boxplot(column='P8')\n",
        "fig.set_title('')\n",
        "fig.set_ylabel('P8')\n"
      ],
      "metadata": {
        "colab": {
          "base_uri": "https://localhost:8080/",
          "height": 1000
        },
        "id": "F2zZIVQDa2xL",
        "outputId": "2fd5a124-1beb-4923-a7cd-7d63be229942"
      },
      "execution_count": null,
      "outputs": [
        {
          "output_type": "execute_result",
          "data": {
            "text/plain": [
              "Text(0, 0.5, 'P8')"
            ]
          },
          "metadata": {},
          "execution_count": 12
        },
        {
          "output_type": "display_data",
          "data": {
            "text/plain": [
              "<Figure size 1728x1440 with 8 Axes>"
            ],
            "image/png": "[encoded data removed]"
          },
          "metadata": {
            "needs_background": "light"
          }
        }
      ]
    },
    {
      "cell_type": "code",
      "source": [
        "# draw boxplots to visualize outliers\n",
        "\n",
        "plt.figure(figsize=(24,20))\n",
        "\n",
        "plt.subplot(4, 2, 1)\n",
        "fig = df.boxplot(column='P1')\n",
        "fig.set_title('')\n",
        "fig.set_ylabel('P1')\n",
        "\n",
        "plt.subplot(4, 2, 2)\n",
        "fig = df.boxplot(column='P5')\n",
        "fig.set_title('')\n",
        "fig.set_ylabel('P5')\n",
        "\n",
        "plt.subplot(4, 2, 3)\n",
        "fig = df.boxplot(column='PO7')\n",
        "fig.set_title('')\n",
        "fig.set_ylabel('PO7')\n",
        "\n",
        "plt.subplot(4, 2, 4)\n",
        "fig = df.boxplot(column='PO3')\n",
        "fig.set_title('')\n",
        "fig.set_ylabel('PO3')\n",
        "\n",
        "plt.subplot(4, 2, 5)\n",
        "fig = df.boxplot(column='POz')\n",
        "fig.set_title('')\n",
        "fig.set_ylabel('POz')\n",
        "\n",
        "plt.subplot(4, 2, 6)\n",
        "fig = df.boxplot(column='PO4')\n",
        "fig.set_title('')\n",
        "fig.set_ylabel('PO4')\n",
        "\n",
        "plt.subplot(4, 2, 7)\n",
        "fig = df.boxplot(column='PO8')\n",
        "fig.set_title('')\n",
        "fig.set_ylabel('PO8')\n",
        "\n",
        "plt.subplot(4, 2, 8)\n",
        "fig = df.boxplot(column='P6')\n",
        "fig.set_title('')\n",
        "fig.set_ylabel('P6')\n",
        "\n"
      ],
      "metadata": {
        "colab": {
          "base_uri": "https://localhost:8080/",
          "height": 1000
        },
        "id": "EhJQgRSAbyZf",
        "outputId": "629107ce-376c-4af3-90c9-7a75fb1e4bf1"
      },
      "execution_count": null,
      "outputs": [
        {
          "output_type": "execute_result",
          "data": {
            "text/plain": [
              "Text(0, 0.5, 'P6')"
            ]
          },
          "metadata": {},
          "execution_count": 13
        },
        {
          "output_type": "display_data",
          "data": {
            "text/plain": [
              "<Figure size 1728x1440 with 8 Axes>"
            ],
            "image/png": "[encoded data removed]"
          },
          "metadata": {
            "needs_background": "light"
          }
        }
      ]
    },
    {
      "cell_type": "code",
      "source": [
        "plt.figure(figsize=(24,20))\n",
        "\n",
        "plt.subplot(4, 2, 1)\n",
        "fig = df.boxplot(column='P2')\n",
        "fig.set_title('')\n",
        "fig.set_ylabel('P2')"
      ],
      "metadata": {
        "colab": {
          "base_uri": "https://localhost:8080/",
          "height": 302
        },
        "id": "y4dAeWoOcQpF",
        "outputId": "a26c86cd-3af8-47ae-f3e1-010f1f83068b"
      },
      "execution_count": null,
      "outputs": [
        {
          "output_type": "execute_result",
          "data": {
            "text/plain": [
              "Text(0, 0.5, 'P2')"
            ]
          },
          "metadata": {},
          "execution_count": 14
        },
        {
          "output_type": "display_data",
          "data": {
            "text/plain": [
              "<Figure size 1728x1440 with 1 Axes>"
            ],
            "image/png": "[encoded data removed]"
          },
          "metadata": {
            "needs_background": "light"
          }
        }
      ]
    },
    {
      "cell_type": "code",
      "source": [
        "# plot histogram to check distribution\n",
        "\n",
        "\n",
        "plt.figure(figsize=(24,20))\n",
        "\n",
        "\n",
        "plt.subplot(4, 2, 1)\n",
        "fig = df['Pz'].hist(bins=20)\n",
        "fig.set_xlabel('Pz')\n",
        "fig.set_ylabel('Label')\n",
        "\n",
        "plt.subplot(4, 2, 2)\n",
        "fig = df['P3'].hist(bins=20)\n",
        "fig.set_xlabel('P3')\n",
        "fig.set_ylabel('Label')\n",
        "\n",
        "plt.subplot(4, 2, 3)\n",
        "fig = df['P7'].hist(bins=20)\n",
        "fig.set_xlabel('P7')\n",
        "fig.set_ylabel('Label')\n",
        "\n",
        "plt.subplot(4, 2, 4)\n",
        "fig = df['O1'].hist(bins=20)\n",
        "fig.set_xlabel('O1')\n",
        "fig.set_ylabel('Label')\n",
        "\n",
        "plt.subplot(4, 2, 5)\n",
        "fig = df['Oz'].hist(bins=20)\n",
        "fig.set_xlabel('Oz')\n",
        "fig.set_ylabel('Label')\n",
        "\n",
        "plt.subplot(4, 2, 6)\n",
        "fig = df['O2'].hist(bins=20)\n",
        "fig.set_xlabel('O2')\n",
        "fig.set_ylabel('Label')\n",
        "\n",
        "plt.subplot(4, 2, 7)\n",
        "fig = df['P4'].hist(bins=20)\n",
        "fig.set_xlabel('P4')\n",
        "fig.set_ylabel('Label')\n",
        "\n",
        "plt.subplot(4, 2, 8)\n",
        "fig = df['P8'].hist(bins=20)\n",
        "fig.set_xlabel('P8')\n",
        "fig.set_ylabel('Label')"
      ],
      "metadata": {
        "colab": {
          "base_uri": "https://localhost:8080/",
          "height": 1000
        },
        "id": "aMp_arbyc7Mr",
        "outputId": "4003e922-0d6c-4161-bc28-1e20c204bffd"
      },
      "execution_count": null,
      "outputs": [
        {
          "output_type": "execute_result",
          "data": {
            "text/plain": [
              "Text(0, 0.5, 'Label')"
            ]
          },
          "metadata": {},
          "execution_count": 15
        },
        {
          "output_type": "display_data",
          "data": {
            "text/plain": [
              "<Figure size 1728x1440 with 8 Axes>"
            ],
            "image/png": "[encoded data removed]"
          },
          "metadata": {
            "needs_background": "light"
          }
        }
      ]
    },
    {
      "cell_type": "code",
      "source": [
        "# plot histogram to check distribution\n",
        "\n",
        "\n",
        "plt.figure(figsize=(24,20))\n",
        "\n",
        "\n",
        "plt.subplot(4, 2, 1)\n",
        "fig = df['P1'].hist(bins=20)\n",
        "fig.set_xlabel('P1')\n",
        "fig.set_ylabel('Label')\n",
        "\n",
        "plt.subplot(4, 2, 2)\n",
        "fig = df['P5'].hist(bins=20)\n",
        "fig.set_xlabel('P5')\n",
        "fig.set_ylabel('Label')\n",
        "\n",
        "plt.subplot(4, 2, 3)\n",
        "fig = df['PO7'].hist(bins=20)\n",
        "fig.set_xlabel('PO7')\n",
        "fig.set_ylabel('Label')\n",
        "\n",
        "plt.subplot(4, 2, 4)\n",
        "fig = df['PO3'].hist(bins=20)\n",
        "fig.set_xlabel('PO3')\n",
        "fig.set_ylabel('Label')\n",
        "\n",
        "plt.subplot(4, 2, 5)\n",
        "fig = df['POz'].hist(bins=20)\n",
        "fig.set_xlabel('POz')\n",
        "fig.set_ylabel('Label')\n",
        "\n",
        "plt.subplot(4, 2, 6)\n",
        "fig = df['PO4'].hist(bins=20)\n",
        "fig.set_xlabel('PO4')\n",
        "fig.set_ylabel('Label')\n",
        "\n",
        "plt.subplot(4, 2, 7)\n",
        "fig = df['PO8'].hist(bins=20)\n",
        "fig.set_xlabel('PO8')\n",
        "fig.set_ylabel('Label')\n",
        "\n",
        "plt.subplot(4, 2, 8)\n",
        "fig = df['P6'].hist(bins=20)\n",
        "fig.set_xlabel('P6')\n",
        "fig.set_ylabel('Label')"
      ],
      "metadata": {
        "colab": {
          "base_uri": "https://localhost:8080/",
          "height": 1000
        },
        "id": "fEaNP2wydnnl",
        "outputId": "79b40200-262b-4fe0-ec34-078348649be4"
      },
      "execution_count": null,
      "outputs": [
        {
          "output_type": "execute_result",
          "data": {
            "text/plain": [
              "Text(0, 0.5, 'Label')"
            ]
          },
          "metadata": {},
          "execution_count": 16
        },
        {
          "output_type": "display_data",
          "data": {
            "text/plain": [
              "<Figure size 1728x1440 with 8 Axes>"
            ],
            "image/png": "[encoded data removed]"
          },
          "metadata": {
            "needs_background": "light"
          }
        }
      ]
    },
    {
      "cell_type": "code",
      "source": [
        "# plot histogram to check distribution\n",
        "\n",
        "\n",
        "plt.figure(figsize=(24,20))\n",
        "\n",
        "\n",
        "plt.subplot(4, 2, 1)\n",
        "fig = df['P2'].hist(bins=20)\n",
        "fig.set_xlabel('P2')\n",
        "fig.set_ylabel('Label')"
      ],
      "metadata": {
        "colab": {
          "base_uri": "https://localhost:8080/",
          "height": 316
        },
        "id": "IQ2qER9HeT0X",
        "outputId": "7d2058c6-fb2a-4d3e-dd10-970d0de26e65"
      },
      "execution_count": null,
      "outputs": [
        {
          "output_type": "execute_result",
          "data": {
            "text/plain": [
              "Text(0, 0.5, 'Label')"
            ]
          },
          "metadata": {},
          "execution_count": 17
        },
        {
          "output_type": "display_data",
          "data": {
            "text/plain": [
              "<Figure size 1728x1440 with 1 Axes>"
            ],
            "image/png": "[encoded data removed]"
          },
          "metadata": {
            "needs_background": "light"
          }
        }
      ]
    },
    {
      "cell_type": "code",
      "source": [
        "X = df.drop(['label'], axis=1)\n",
        "\n",
        "y = df['label']"
      ],
      "metadata": {
        "id": "oPedyqjieWBU"
      },
      "execution_count": null,
      "outputs": []
    },
    {
      "cell_type": "code",
      "source": [
        "# split X and y into training and testing sets\n",
        "\n",
        "from sklearn.model_selection import train_test_split\n",
        "\n",
        "X_train, X_test, y_train, y_test = train_test_split(X, y, test_size = 0.2, random_state = 0)\n"
      ],
      "metadata": {
        "id": "3AtnnR6Fe6iC"
      },
      "execution_count": null,
      "outputs": []
    },
    {
      "cell_type": "code",
      "source": [
        "# check the shape of X_train and X_test\n",
        "\n",
        "X_train.shape, X_test.shape"
      ],
      "metadata": {
        "colab": {
          "base_uri": "https://localhost:8080/"
        },
        "id": "RBU-XYbde86e",
        "outputId": "475cd039-96eb-45f6-e336-69044c14c205"
      },
      "execution_count": null,
      "outputs": [
        {
          "output_type": "execute_result",
          "data": {
            "text/plain": [
              "((128, 17), (32, 17))"
            ]
          },
          "metadata": {},
          "execution_count": 20
        }
      ]
    },
    {
      "cell_type": "code",
      "source": [
        "cols = X_train.columns"
      ],
      "metadata": {
        "id": "X3dyDpSoe-Mw"
      },
      "execution_count": null,
      "outputs": []
    },
    {
      "cell_type": "code",
      "source": [
        "from sklearn.preprocessing import StandardScaler\n",
        "\n",
        "scaler = StandardScaler()\n",
        "\n",
        "X_train = scaler.fit_transform(X_train)\n",
        "\n",
        "X_test = scaler.transform(X_test)\n"
      ],
      "metadata": {
        "id": "qqVSrC4SfMcG"
      },
      "execution_count": null,
      "outputs": []
    },
    {
      "cell_type": "code",
      "source": [
        "X_train = pd.DataFrame(X_train, columns=[cols])"
      ],
      "metadata": {
        "id": "HvLGqj_JfOAN"
      },
      "execution_count": null,
      "outputs": []
    },
    {
      "cell_type": "code",
      "source": [
        "X_test = pd.DataFrame(X_test, columns=[cols])"
      ],
      "metadata": {
        "id": "YLg4D1SyfPRI"
      },
      "execution_count": null,
      "outputs": []
    },
    {
      "cell_type": "code",
      "source": [
        "X_train.describe()"
      ],
      "metadata": {
        "colab": {
          "base_uri": "https://localhost:8080/",
          "height": 364
        },
        "id": "y6-yTWKffQUy",
        "outputId": "7de8241b-d5ff-4915-d6ee-4bdaaacaf09b"
      },
      "execution_count": null,
      "outputs": [
        {
          "output_type": "execute_result",
          "data": {
            "text/plain": [
              "                 Pz            P3          P7            O1            Oz  \\\n",
              "count  1.280000e+02  1.280000e+02  128.000000  1.280000e+02  1.280000e+02   \n",
              "mean   2.775558e-17  6.938894e-18    0.000000  6.938894e-18  3.469447e-18   \n",
              "std    1.003929e+00  1.003929e+00    1.003929  1.003929e+00  1.003929e+00   \n",
              "min   -2.714182e+00 -2.220850e+00  -10.557883 -3.478305e+00 -2.926350e+00   \n",
              "25%   -4.636647e-01 -7.352863e-01    0.002171 -5.730989e-01 -7.090198e-01   \n",
              "50%   -3.660352e-02 -4.242945e-02    0.135426 -1.014167e-01  5.832258e-02   \n",
              "75%    5.954260e-01  7.243340e-01    0.220780  7.775353e-01  7.201083e-01   \n",
              "max    2.436902e+00  2.534221e+00    1.146052  2.822643e+00  2.914856e+00   \n",
              "\n",
              "                 O2            P4            P8            P1            P5  \\\n",
              "count  1.280000e+02  1.280000e+02  1.280000e+02  1.280000e+02  1.280000e+02   \n",
              "mean   2.688821e-17  2.775558e-17  2.775558e-17  6.938894e-18  1.734723e-17   \n",
              "std    1.003929e+00  1.003929e+00  1.003929e+00  1.003929e+00  1.003929e+00   \n",
              "min   -2.616023e+00 -2.860746e+00 -3.066384e+00 -2.679879e+00 -2.599591e+00   \n",
              "25%   -6.495179e-01 -7.021974e-01 -5.864747e-01 -5.609355e-01 -6.301241e-01   \n",
              "50%   -8.580765e-02 -7.628646e-02  3.155971e-02  9.033626e-03  6.653595e-03   \n",
              "75%    5.230958e-01  6.100247e-01  6.414534e-01  5.654113e-01  6.896960e-01   \n",
              "max    2.913849e+00  2.120580e+00  3.505540e+00  3.157897e+00  2.980466e+00   \n",
              "\n",
              "                PO7           PO3           POz           PO4         PO8  \\\n",
              "count  1.280000e+02  1.280000e+02  1.280000e+02  1.280000e+02  128.000000   \n",
              "mean  -2.775558e-17  6.938894e-18 -8.673617e-18  1.387779e-17    0.000000   \n",
              "std    1.003929e+00  1.003929e+00  1.003929e+00  1.003929e+00    1.003929   \n",
              "min   -3.347672e+00 -2.927359e+00 -2.526852e+00 -2.707239e+00   -2.448058   \n",
              "25%   -6.151813e-01 -6.642132e-01 -7.465180e-01 -6.518718e-01   -0.596493   \n",
              "50%   -1.035140e-01 -1.010024e-01 -5.171977e-02 -7.552282e-02   -0.042955   \n",
              "75%    6.158272e-01  7.358379e-01  7.954426e-01  6.543152e-01    0.532728   \n",
              "max    2.540351e+00  2.519706e+00  2.400697e+00  2.845898e+00    2.872391   \n",
              "\n",
              "                 P6            P2  \n",
              "count  1.280000e+02  1.280000e+02  \n",
              "mean  -1.387779e-17 -2.081668e-17  \n",
              "std    1.003929e+00  1.003929e+00  \n",
              "min   -2.569180e+00 -2.469858e+00  \n",
              "25%   -6.898951e-01 -7.453406e-01  \n",
              "50%   -5.993180e-02 -2.124054e-02  \n",
              "75%    6.584016e-01  7.302669e-01  \n",
              "max    2.588750e+00  3.039555e+00  "
            ],
            "text/html": [
              "\n",
              "  <div id=\"df-845ed3fa-47ac-4d86-b720-f1828b9a5f81\">\n",
              "    <div class=\"colab-df-container\">\n",
              "      <div>\n",
              "<style scoped>\n",
              "    .dataframe tbody tr th:only-of-type {\n",
              "        vertical-align: middle;\n",
              "    }\n",
              "\n",
              "    .dataframe tbody tr th {\n",
              "        vertical-align: top;\n",
              "    }\n",
              "\n",
              "    .dataframe thead tr th {\n",
              "        text-align: left;\n",
              "    }\n",
              "</style>\n",
              "<table border=\"1\" class=\"dataframe\">\n",
              "  <thead>\n",
              "    <tr>\n",
              "      <th></th>\n",
              "      <th>Pz</th>\n",
              "      <th>P3</th>\n",
              "      <th>P7</th>\n",
              "      <th>O1</th>\n",
              "      <th>Oz</th>\n",
              "      <th>O2</th>\n",
              "      <th>P4</th>\n",
              "      <th>P8</th>\n",
              "      <th>P1</th>\n",
              "      <th>P5</th>\n",
              "      <th>PO7</th>\n",
              "      <th>PO3</th>\n",
              "      <th>POz</th>\n",
              "      <th>PO4</th>\n",
              "      <th>PO8</th>\n",
              "      <th>P6</th>\n",
              "      <th>P2</th>\n",
              "    </tr>\n",
              "  </thead>\n",
              "  <tbody>\n",
              "    <tr>\n",
              "      <th>count</th>\n",
              "      <td>1.280000e+02</td>\n",
              "      <td>1.280000e+02</td>\n",
              "      <td>128.000000</td>\n",
              "      <td>1.280000e+02</td>\n",
              "      <td>1.280000e+02</td>\n",
              "      <td>1.280000e+02</td>\n",
              "      <td>1.280000e+02</td>\n",
              "      <td>1.280000e+02</td>\n",
              "      <td>1.280000e+02</td>\n",
              "      <td>1.280000e+02</td>\n",
              "      <td>1.280000e+02</td>\n",
              "      <td>1.280000e+02</td>\n",
              "      <td>1.280000e+02</td>\n",
              "      <td>1.280000e+02</td>\n",
              "      <td>128.000000</td>\n",
              "      <td>1.280000e+02</td>\n",
              "      <td>1.280000e+02</td>\n",
              "    </tr>\n",
              "    <tr>\n",
              "      <th>mean</th>\n",
              "      <td>2.775558e-17</td>\n",
              "      <td>6.938894e-18</td>\n",
              "      <td>0.000000</td>\n",
              "      <td>6.938894e-18</td>\n",
              "      <td>3.469447e-18</td>\n",
              "      <td>2.688821e-17</td>\n",
              "      <td>2.775558e-17</td>\n",
              "      <td>2.775558e-17</td>\n",
              "      <td>6.938894e-18</td>\n",
              "      <td>1.734723e-17</td>\n",
              "      <td>-2.775558e-17</td>\n",
              "      <td>6.938894e-18</td>\n",
              "      <td>-8.673617e-18</td>\n",
              "      <td>1.387779e-17</td>\n",
              "      <td>0.000000</td>\n",
              "      <td>-1.387779e-17</td>\n",
              "      <td>-2.081668e-17</td>\n",
              "    </tr>\n",
              "    <tr>\n",
              "      <th>std</th>\n",
              "      <td>1.003929e+00</td>\n",
              "      <td>1.003929e+00</td>\n",
              "      <td>1.003929</td>\n",
              "      <td>1.003929e+00</td>\n",
              "      <td>1.003929e+00</td>\n",
              "      <td>1.003929e+00</td>\n",
              "      <td>1.003929e+00</td>\n",
              "      <td>1.003929e+00</td>\n",
              "      <td>1.003929e+00</td>\n",
              "      <td>1.003929e+00</td>\n",
              "      <td>1.003929e+00</td>\n",
              "      <td>1.003929e+00</td>\n",
              "      <td>1.003929e+00</td>\n",
              "      <td>1.003929e+00</td>\n",
              "      <td>1.003929</td>\n",
              "      <td>1.003929e+00</td>\n",
              "      <td>1.003929e+00</td>\n",
              "    </tr>\n",
              "    <tr>\n",
              "      <th>min</th>\n",
              "      <td>-2.714182e+00</td>\n",
              "      <td>-2.220850e+00</td>\n",
              "      <td>-10.557883</td>\n",
              "      <td>-3.478305e+00</td>\n",
              "      <td>-2.926350e+00</td>\n",
              "      <td>-2.616023e+00</td>\n",
              "      <td>-2.860746e+00</td>\n",
              "      <td>-3.066384e+00</td>\n",
              "      <td>-2.679879e+00</td>\n",
              "      <td>-2.599591e+00</td>\n",
              "      <td>-3.347672e+00</td>\n",
              "      <td>-2.927359e+00</td>\n",
              "      <td>-2.526852e+00</td>\n",
              "      <td>-2.707239e+00</td>\n",
              "      <td>-2.448058</td>\n",
              "      <td>-2.569180e+00</td>\n",
              "      <td>-2.469858e+00</td>\n",
              "    </tr>\n",
              "    <tr>\n",
              "      <th>25%</th>\n",
              "      <td>-4.636647e-01</td>\n",
              "      <td>-7.352863e-01</td>\n",
              "      <td>0.002171</td>\n",
              "      <td>-5.730989e-01</td>\n",
              "      <td>-7.090198e-01</td>\n",
              "      <td>-6.495179e-01</td>\n",
              "      <td>-7.021974e-01</td>\n",
              "      <td>-5.864747e-01</td>\n",
              "      <td>-5.609355e-01</td>\n",
              "      <td>-6.301241e-01</td>\n",
              "      <td>-6.151813e-01</td>\n",
              "      <td>-6.642132e-01</td>\n",
              "      <td>-7.465180e-01</td>\n",
              "      <td>-6.518718e-01</td>\n",
              "      <td>-0.596493</td>\n",
              "      <td>-6.898951e-01</td>\n",
              "      <td>-7.453406e-01</td>\n",
              "    </tr>\n",
              "    <tr>\n",
              "      <th>50%</th>\n",
              "      <td>-3.660352e-02</td>\n",
              "      <td>-4.242945e-02</td>\n",
              "      <td>0.135426</td>\n",
              "      <td>-1.014167e-01</td>\n",
              "      <td>5.832258e-02</td>\n",
              "      <td>-8.580765e-02</td>\n",
              "      <td>-7.628646e-02</td>\n",
              "      <td>3.155971e-02</td>\n",
              "      <td>9.033626e-03</td>\n",
              "      <td>6.653595e-03</td>\n",
              "      <td>-1.035140e-01</td>\n",
              "      <td>-1.010024e-01</td>\n",
              "      <td>-5.171977e-02</td>\n",
              "      <td>-7.552282e-02</td>\n",
              "      <td>-0.042955</td>\n",
              "      <td>-5.993180e-02</td>\n",
              "      <td>-2.124054e-02</td>\n",
              "    </tr>\n",
              "    <tr>\n",
              "      <th>75%</th>\n",
              "      <td>5.954260e-01</td>\n",
              "      <td>7.243340e-01</td>\n",
              "      <td>0.220780</td>\n",
              "      <td>7.775353e-01</td>\n",
              "      <td>7.201083e-01</td>\n",
              "      <td>5.230958e-01</td>\n",
              "      <td>6.100247e-01</td>\n",
              "      <td>6.414534e-01</td>\n",
              "      <td>5.654113e-01</td>\n",
              "      <td>6.896960e-01</td>\n",
              "      <td>6.158272e-01</td>\n",
              "      <td>7.358379e-01</td>\n",
              "      <td>7.954426e-01</td>\n",
              "      <td>6.543152e-01</td>\n",
              "      <td>0.532728</td>\n",
              "      <td>6.584016e-01</td>\n",
              "      <td>7.302669e-01</td>\n",
              "    </tr>\n",
              "    <tr>\n",
              "      <th>max</th>\n",
              "      <td>2.436902e+00</td>\n",
              "      <td>2.534221e+00</td>\n",
              "      <td>1.146052</td>\n",
              "      <td>2.822643e+00</td>\n",
              "      <td>2.914856e+00</td>\n",
              "      <td>2.913849e+00</td>\n",
              "      <td>2.120580e+00</td>\n",
              "      <td>3.505540e+00</td>\n",
              "      <td>3.157897e+00</td>\n",
              "      <td>2.980466e+00</td>\n",
              "      <td>2.540351e+00</td>\n",
              "      <td>2.519706e+00</td>\n",
              "      <td>2.400697e+00</td>\n",
              "      <td>2.845898e+00</td>\n",
              "      <td>2.872391</td>\n",
              "      <td>2.588750e+00</td>\n",
              "      <td>3.039555e+00</td>\n",
              "    </tr>\n",
              "  </tbody>\n",
              "</table>\n",
              "</div>\n",
              "      <button class=\"colab-df-convert\" onclick=\"convertToInteractive('df-845ed3fa-47ac-4d86-b720-f1828b9a5f81')\"\n",
              "              title=\"Convert this dataframe to an interactive table.\"\n",
              "              style=\"display:none;\">\n",
              "        \n",
              "  <svg xmlns=\"http://www.w3.org/2000/svg\" height=\"24px\"viewBox=\"0 0 24 24\"\n",
              "       width=\"24px\">\n",
              "    <path d=\"M0 0h24v24H0V0z\" fill=\"none\"/>\n",
              "    <path d=\"M18.56 5.44l.94 2.06.94-2.06 2.06-.94-2.06-.94-.94-2.06-.94 2.06-2.06.94zm-11 1L8.5 8.5l.94-2.06 2.06-.94-2.06-.94L8.5 2.5l-.94 2.06-2.06.94zm10 10l.94 2.06.94-2.06 2.06-.94-2.06-.94-.94-2.06-.94 2.06-2.06.94z\"/><path d=\"M17.41 7.96l-1.37-1.37c-.4-.4-.92-.59-1.43-.59-.52 0-1.04.2-1.43.59L10.3 9.45l-7.72 7.72c-.78.78-.78 2.05 0 2.83L4 21.41c.39.39.9.59 1.41.59.51 0 1.02-.2 1.41-.59l7.78-7.78 2.81-2.81c.8-.78.8-2.07 0-2.86zM5.41 20L4 18.59l7.72-7.72 1.47 1.35L5.41 20z\"/>\n",
              "  </svg>\n",
              "      </button>\n",
              "      \n",
              "  <style>\n",
              "    .colab-df-container {\n",
              "      display:flex;\n",
              "      flex-wrap:wrap;\n",
              "      gap: 12px;\n",
              "    }\n",
              "\n",
              "    .colab-df-convert {\n",
              "      background-color: #E8F0FE;\n",
              "      border: none;\n",
              "      border-radius: 50%;\n",
              "      cursor: pointer;\n",
              "      display: none;\n",
              "      fill: #1967D2;\n",
              "      height: 32px;\n",
              "      padding: 0 0 0 0;\n",
              "      width: 32px;\n",
              "    }\n",
              "\n",
              "    .colab-df-convert:hover {\n",
              "      background-color: #E2EBFA;\n",
              "      box-shadow: 0px 1px 2px rgba(60, 64, 67, 0.3), 0px 1px 3px 1px rgba(60, 64, 67, 0.15);\n",
              "      fill: #174EA6;\n",
              "    }\n",
              "\n",
              "    [theme=dark] .colab-df-convert {\n",
              "      background-color: #3B4455;\n",
              "      fill: #D2E3FC;\n",
              "    }\n",
              "\n",
              "    [theme=dark] .colab-df-convert:hover {\n",
              "      background-color: #434B5C;\n",
              "      box-shadow: 0px 1px 3px 1px rgba(0, 0, 0, 0.15);\n",
              "      filter: drop-shadow(0px 1px 2px rgba(0, 0, 0, 0.3));\n",
              "      fill: #FFFFFF;\n",
              "    }\n",
              "  </style>\n",
              "\n",
              "      <script>\n",
              "        const buttonEl =\n",
              "          document.querySelector('#df-845ed3fa-47ac-4d86-b720-f1828b9a5f81 button.colab-df-convert');\n",
              "        buttonEl.style.display =\n",
              "          google.colab.kernel.accessAllowed ? 'block' : 'none';\n",
              "\n",
              "        async function convertToInteractive(key) {\n",
              "          const element = document.querySelector('#df-845ed3fa-47ac-4d86-b720-f1828b9a5f81');\n",
              "          const dataTable =\n",
              "            await google.colab.kernel.invokeFunction('convertToInteractive',\n",
              "                                                     [key], {});\n",
              "          if (!dataTable) return;\n",
              "\n",
              "          const docLinkHtml = 'Like what you see? Visit the ' +\n",
              "            '<a target=\"_blank\" href=https://colab.research.google.com/notebooks/data_table.ipynb>data table notebook</a>'\n",
              "            + ' to learn more about interactive tables.';\n",
              "          element.innerHTML = '';\n",
              "          dataTable['output_type'] = 'display_data';\n",
              "          await google.colab.output.renderOutput(dataTable, element);\n",
              "          const docLink = document.createElement('div');\n",
              "          docLink.innerHTML = docLinkHtml;\n",
              "          element.appendChild(docLink);\n",
              "        }\n",
              "      </script>\n",
              "    </div>\n",
              "  </div>\n",
              "  "
            ]
          },
          "metadata": {},
          "execution_count": 25
        }
      ]
    },
    {
      "cell_type": "code",
      "source": [
        "# import SVC classifier\n",
        "from sklearn.svm import SVC\n",
        "\n",
        "\n",
        "# import metrics to compute accuracy\n",
        "from sklearn.metrics import accuracy_score\n",
        "\n",
        "\n",
        "# instantiate classifier with default hyperparameters\n",
        "svc=SVC() \n",
        "\n",
        "\n",
        "# fit classifier to training set\n",
        "svc.fit(X_train,y_train)\n",
        "\n",
        "\n",
        "# make predictions on test set\n",
        "y_pred=svc.predict(X_test)\n",
        "\n",
        "\n",
        "# compute and print accuracy score\n",
        "print('Model accuracy score with default hyperparameters: {0:0.4f}'. format(accuracy_score(y_test, y_pred)))"
      ],
      "metadata": {
        "colab": {
          "base_uri": "https://localhost:8080/"
        },
        "id": "VooTssyVfRlO",
        "outputId": "ab33176b-3765-4e94-fb0e-f99487355695"
      },
      "execution_count": null,
      "outputs": [
        {
          "output_type": "stream",
          "name": "stdout",
          "text": [
            "Model accuracy score with default hyperparameters: 0.3125\n"
          ]
        }
      ]
    },
    {
      "cell_type": "code",
      "source": [
        "# instantiate classifier with rbf kernel and C=100\n",
        "svc=SVC(C=100.0) \n",
        "\n",
        "\n",
        "# fit classifier to training set\n",
        "svc.fit(X_train,y_train)\n",
        "\n",
        "\n",
        "# make predictions on test set\n",
        "y_pred=svc.predict(X_test)\n",
        "\n",
        "\n",
        "# compute and print accuracy score\n",
        "print('Model accuracy score with rbf kernel and C=100.0 : {0:0.4f}'. format(accuracy_score(y_test, y_pred)))"
      ],
      "metadata": {
        "colab": {
          "base_uri": "https://localhost:8080/"
        },
        "id": "ZcMi4uPHfYVf",
        "outputId": "2b20c5b3-29e6-4348-e869-676195b93af5"
      },
      "execution_count": null,
      "outputs": [
        {
          "output_type": "stream",
          "name": "stdout",
          "text": [
            "Model accuracy score with rbf kernel and C=100.0 : 0.3125\n"
          ]
        }
      ]
    },
    {
      "cell_type": "code",
      "source": [
        "# instantiate classifier with rbf kernel and C=1000\n",
        "svc=SVC(C=1000.0) \n",
        "\n",
        "\n",
        "# fit classifier to training set\n",
        "svc.fit(X_train,y_train)\n",
        "\n",
        "\n",
        "# make predictions on test set\n",
        "y_pred=svc.predict(X_test)\n",
        "\n",
        "\n",
        "# compute and print accuracy score\n",
        "print('Model accuracy score with rbf kernel and C=1000.0 : {0:0.4f}'. format(accuracy_score(y_test, y_pred)))"
      ],
      "metadata": {
        "colab": {
          "base_uri": "https://localhost:8080/"
        },
        "id": "OMQq0c8rfayW",
        "outputId": "66676c98-4b00-409e-b115-498604ce929a"
      },
      "execution_count": null,
      "outputs": [
        {
          "output_type": "stream",
          "name": "stdout",
          "text": [
            "Model accuracy score with rbf kernel and C=1000.0 : 0.3125\n"
          ]
        }
      ]
    },
    {
      "cell_type": "code",
      "source": [
        "# instantiate classifier with linear kernel and C=1.0\n",
        "linear_svc=SVC(kernel='linear', C=1.0) \n",
        "\n",
        "\n",
        "# fit classifier to training set\n",
        "linear_svc.fit(X_train,y_train)\n",
        "\n",
        "\n",
        "# make predictions on test set\n",
        "y_pred_test=linear_svc.predict(X_test)\n",
        "\n",
        "\n",
        "# compute and print accuracy score\n",
        "print('Model accuracy score with linear kernel and C=1.0 : {0:0.4f}'. format(accuracy_score(y_test, y_pred_test)))\n"
      ],
      "metadata": {
        "colab": {
          "base_uri": "https://localhost:8080/"
        },
        "id": "CUG4TjPtffg7",
        "outputId": "aca6f928-4187-4b8f-ab26-33ae87a36457"
      },
      "execution_count": null,
      "outputs": [
        {
          "output_type": "stream",
          "name": "stdout",
          "text": [
            "Model accuracy score with linear kernel and C=1.0 : 0.0938\n"
          ]
        }
      ]
    },
    {
      "cell_type": "code",
      "source": [
        "# instantiate classifier with linear kernel and C=100.0\n",
        "linear_svc100=SVC(kernel='linear', C=100.0) \n",
        "\n",
        "\n",
        "# fit classifier to training set\n",
        "linear_svc100.fit(X_train, y_train)\n",
        "\n",
        "\n",
        "# make predictions on test set\n",
        "y_pred=linear_svc100.predict(X_test)\n",
        "\n",
        "\n",
        "# compute and print accuracy score\n",
        "print('Model accuracy score with linear kernel and C=100.0 : {0:0.4f}'. format(accuracy_score(y_test, y_pred)))"
      ],
      "metadata": {
        "colab": {
          "base_uri": "https://localhost:8080/"
        },
        "id": "AKoL7Bd8fj8z",
        "outputId": "03ebe7f8-41d0-4aa4-feb8-b0773b194d19"
      },
      "execution_count": null,
      "outputs": [
        {
          "output_type": "stream",
          "name": "stdout",
          "text": [
            "Model accuracy score with linear kernel and C=100.0 : 0.1875\n"
          ]
        }
      ]
    },
    {
      "cell_type": "code",
      "source": [
        "# instantiate classifier with linear kernel and C=1000.0\n",
        "linear_svc1000=SVC(kernel='linear', C=1000.0) \n",
        "\n",
        "\n",
        "# fit classifier to training set\n",
        "linear_svc1000.fit(X_train, y_train)\n",
        "\n",
        "\n",
        "# make predictions on test set\n",
        "y_pred=linear_svc1000.predict(X_test)\n",
        "\n",
        "\n",
        "# compute and print accuracy score\n",
        "print('Model accuracy score with linear kernel and C=1000.0 : {0:0.4f}'. format(accuracy_score(y_test, y_pred)))"
      ],
      "metadata": {
        "colab": {
          "base_uri": "https://localhost:8080/"
        },
        "id": "DEjXMMaiftEi",
        "outputId": "f672fd5e-0c8f-4c3e-911b-33dbf2909891"
      },
      "execution_count": null,
      "outputs": [
        {
          "output_type": "stream",
          "name": "stdout",
          "text": [
            "Model accuracy score with linear kernel and C=1000.0 : 0.2188\n"
          ]
        }
      ]
    },
    {
      "cell_type": "code",
      "source": [
        "y_pred_train = linear_svc.predict(X_train)\n",
        "\n",
        "y_pred_train"
      ],
      "metadata": {
        "colab": {
          "base_uri": "https://localhost:8080/"
        },
        "id": "iO2xfu2Tf-dt",
        "outputId": "035e6151-83d0-4dbf-f58f-0b1518e36fcb"
      },
      "execution_count": null,
      "outputs": [
        {
          "output_type": "execute_result",
          "data": {
            "text/plain": [
              "array(['Biscuit', 'Drink', 'Toilet', 'Drink', 'Drink', 'Bed', 'Drink',\n",
              "       'Bed', 'Toilet', 'Biscuit', 'Biscuit', 'Bed', 'Biscuit', 'Bed',\n",
              "       'Toilet', 'Toilet', 'Bed', 'Drink', 'Bed', 'Bed', 'Bed', 'Toilet',\n",
              "       'Drink', 'Drink', 'Toilet', 'Bed', 'Toilet', 'Drink', 'Drink',\n",
              "       'Biscuit', 'Bed', 'Toilet', 'Drink', 'Toilet', 'Toilet', 'Toilet',\n",
              "       'Drink', 'Toilet', 'Biscuit', 'Biscuit', 'Bed', 'Toilet',\n",
              "       'Biscuit', 'Toilet', 'Toilet', 'Biscuit', 'Biscuit', 'Biscuit',\n",
              "       'Drink', 'Toilet', 'Biscuit', 'Bed', 'Bed', 'Drink', 'Toilet',\n",
              "       'Bed', 'Toilet', 'Drink', 'Drink', 'Drink', 'Bed', 'Biscuit',\n",
              "       'Biscuit', 'Drink', 'Bed', 'Bed', 'Bed', 'Toilet', 'Bed', 'Bed',\n",
              "       'Toilet', 'Bed', 'Biscuit', 'Bed', 'Toilet', 'Bed', 'Bed', 'Bed',\n",
              "       'Biscuit', 'Biscuit', 'Toilet', 'Toilet', 'Biscuit', 'Bed',\n",
              "       'Biscuit', 'Toilet', 'Toilet', 'Toilet', 'Toilet', 'Toilet', 'Bed',\n",
              "       'Biscuit', 'Toilet', 'Bed', 'Biscuit', 'Drink', 'Toilet', 'Bed',\n",
              "       'Drink', 'Toilet', 'Bed', 'Toilet', 'Drink', 'Bed', 'Toilet',\n",
              "       'Bed', 'Toilet', 'Bed', 'Toilet', 'Drink', 'Bed', 'Bed', 'Toilet',\n",
              "       'Drink', 'Bed', 'Bed', 'Biscuit', 'Toilet', 'Toilet', 'Biscuit',\n",
              "       'Drink', 'Toilet', 'Biscuit', 'Bed', 'Bed', 'Toilet', 'Biscuit',\n",
              "       'Bed'], dtype=object)"
            ]
          },
          "metadata": {},
          "execution_count": 32
        }
      ]
    },
    {
      "cell_type": "code",
      "source": [
        "print('SVM Training-set accuracy score: {0:0.4f}'. format(accuracy_score(y_train, y_pred_train)))"
      ],
      "metadata": {
        "colab": {
          "base_uri": "https://localhost:8080/"
        },
        "id": "iq35RRRmf-iM",
        "outputId": "03c68413-c682-44df-c1d2-46aeef2c1e04"
      },
      "execution_count": null,
      "outputs": [
        {
          "output_type": "stream",
          "name": "stdout",
          "text": [
            "SVM Training-set accuracy score: 0.5781\n"
          ]
        }
      ]
    },
    {
      "cell_type": "code",
      "source": [
        "# print the scores on training and test set\n",
        "\n",
        "print('Training set score: {:.4f}'.format(linear_svc.score(X_train, y_train)))\n",
        "\n",
        "print('Test set score: {:.4f}'.format(linear_svc.score(X_test, y_test)))"
      ],
      "metadata": {
        "colab": {
          "base_uri": "https://localhost:8080/"
        },
        "id": "3QJWs55Ef-lE",
        "outputId": "34613057-2fd0-4095-a01e-143311085616"
      },
      "execution_count": null,
      "outputs": [
        {
          "output_type": "stream",
          "name": "stdout",
          "text": [
            "Training set score: 0.5781\n",
            "Test set score: 0.0938\n"
          ]
        }
      ]
    },
    {
      "cell_type": "code",
      "source": [
        "# check class distribution in test set\n",
        "\n",
        "y_test.value_counts()"
      ],
      "metadata": {
        "colab": {
          "base_uri": "https://localhost:8080/"
        },
        "id": "f-rruOTzgMvH",
        "outputId": "f0fef9ff-56e9-4b90-b54c-5638489dd6ed"
      },
      "execution_count": null,
      "outputs": [
        {
          "output_type": "execute_result",
          "data": {
            "text/plain": [
              "Bed        10\n",
              "Biscuit     9\n",
              "Drink       7\n",
              "Toilet      6\n",
              "Name: label, dtype: int64"
            ]
          },
          "metadata": {},
          "execution_count": 36
        }
      ]
    },
    {
      "cell_type": "code",
      "source": [
        "# check null accuracy score\n",
        "\n",
        "null_accuracy = (12/(12+92))\n",
        "\n",
        "print('Null accuracy score: {0:0.4f}'. format(null_accuracy))"
      ],
      "metadata": {
        "colab": {
          "base_uri": "https://localhost:8080/"
        },
        "id": "y8AtfIErgNLi",
        "outputId": "5b05f328-5322-45ab-d35f-67700ac9a659"
      },
      "execution_count": null,
      "outputs": [
        {
          "output_type": "stream",
          "name": "stdout",
          "text": [
            "Null accuracy score: 0.1154\n"
          ]
        }
      ]
    },
    {
      "cell_type": "code",
      "source": [
        "# instantiate classifier with polynomial kernel and C=1.0\n",
        "poly_svc=SVC(kernel='poly', C=1.0) \n",
        "\n",
        "\n",
        "# fit classifier to training set\n",
        "poly_svc.fit(X_train,y_train)\n",
        "\n",
        "\n",
        "# make predictions on test set\n",
        "y_pred=poly_svc.predict(X_test)\n",
        "\n",
        "\n",
        "# compute and print accuracy score\n",
        "print('Model accuracy score with polynomial kernel and C=1.0 : {0:0.4f}'. format(accuracy_score(y_test, y_pred)))\n"
      ],
      "metadata": {
        "colab": {
          "base_uri": "https://localhost:8080/"
        },
        "id": "X22KGuE2gPuH",
        "outputId": "1368918d-5f98-47bb-947a-baf71b8fc942"
      },
      "execution_count": null,
      "outputs": [
        {
          "output_type": "stream",
          "name": "stdout",
          "text": [
            "Model accuracy score with polynomial kernel and C=1.0 : 0.1875\n"
          ]
        }
      ]
    },
    {
      "cell_type": "code",
      "source": [
        "# instantiate classifier with polynomial kernel and C=100.0\n",
        "poly_svc100=SVC(kernel='poly', C=100.0) \n",
        "\n",
        "\n",
        "# fit classifier to training set\n",
        "poly_svc100.fit(X_train, y_train)\n",
        "\n",
        "\n",
        "# make predictions on test set\n",
        "y_pred=poly_svc100.predict(X_test)\n",
        "\n",
        "\n",
        "# compute and print accuracy score\n",
        "print('Model accuracy score with polynomial kernel and C=1.0 : {0:0.4f}'. format(accuracy_score(y_test, y_pred)))"
      ],
      "metadata": {
        "colab": {
          "base_uri": "https://localhost:8080/"
        },
        "id": "JSC25PY-gwUO",
        "outputId": "2b250c26-1700-4f6f-d334-adc26d841227"
      },
      "execution_count": null,
      "outputs": [
        {
          "output_type": "stream",
          "name": "stdout",
          "text": [
            "Model accuracy score with polynomial kernel and C=1.0 : 0.2500\n"
          ]
        }
      ]
    },
    {
      "cell_type": "code",
      "source": [
        "# instantiate classifier with sigmoid kernel and C=1.0\n",
        "sigmoid_svc=SVC(kernel='sigmoid', C=1.0) \n",
        "\n",
        "\n",
        "# fit classifier to training set\n",
        "sigmoid_svc.fit(X_train,y_train)\n",
        "\n",
        "\n",
        "# make predictions on test set\n",
        "y_pred=sigmoid_svc.predict(X_test)\n",
        "\n",
        "\n",
        "# compute and print accuracy score\n",
        "print('Model accuracy score with sigmoid kernel and C=1.0 : {0:0.4f}'. format(accuracy_score(y_test, y_pred)))\n"
      ],
      "metadata": {
        "colab": {
          "base_uri": "https://localhost:8080/"
        },
        "id": "8h7j5-tsgyIw",
        "outputId": "b2c47343-a546-4986-8902-1387aabbcee1"
      },
      "execution_count": null,
      "outputs": [
        {
          "output_type": "stream",
          "name": "stdout",
          "text": [
            "Model accuracy score with sigmoid kernel and C=1.0 : 0.2188\n"
          ]
        }
      ]
    },
    {
      "cell_type": "code",
      "source": [
        "# instantiate classifier with sigmoid kernel and C=100.0\n",
        "sigmoid_svc100=SVC(kernel='sigmoid', C=100.0) \n",
        "\n",
        "\n",
        "# fit classifier to training set\n",
        "sigmoid_svc100.fit(X_train,y_train)\n",
        "\n",
        "\n",
        "# make predictions on test set\n",
        "y_pred=sigmoid_svc100.predict(X_test)\n",
        "\n",
        "\n",
        "# compute and print accuracy score\n",
        "print('Model accuracy score with sigmoid kernel and C=100.0 : {0:0.4f}'. format(accuracy_score(y_test, y_pred)))\n"
      ],
      "metadata": {
        "colab": {
          "base_uri": "https://localhost:8080/"
        },
        "id": "ljf5cfrHg0Aa",
        "outputId": "cc8f3e34-c63d-4e5f-f923-b543cb3fdb7e"
      },
      "execution_count": null,
      "outputs": [
        {
          "output_type": "stream",
          "name": "stdout",
          "text": [
            "Model accuracy score with sigmoid kernel and C=100.0 : 0.1875\n"
          ]
        }
      ]
    },
    {
      "cell_type": "code",
      "source": [
        "no# Print the Confusion Matrix and slice it into four pieces\n",
        "\n",
        "from sklearn.metrics import confusion_matrix\n",
        "\n",
        "cm = confusion_matrix(y_test, y_pred_test)\n",
        "\n",
        "print('Confusion matrix\\n\\n', cm)\n",
        "\n",
        "print('\\nTrue Positives(TP) = ', cm[0,0])\n",
        "\n",
        "print('\\nTrue Negatives(TN) = ', cm[1,1])\n",
        "\n",
        "print('\\nFalse Positives(FP) = ', cm[0,1])\n",
        "\n",
        "print('\\nFalse Negatives(FN) = ', cm[1,0])"
      ],
      "metadata": {
        "colab": {
          "base_uri": "https://localhost:8080/"
        },
        "id": "BsSc24SDg1e0",
        "outputId": "f194b6df-ea25-44e0-dafa-2b30630eee71"
      },
      "execution_count": null,
      "outputs": [
        {
          "output_type": "stream",
          "name": "stdout",
          "text": [
            "Confusion matrix\n",
            "\n",
            " [[1 4 3 2]\n",
            " [0 1 7 1]\n",
            " [2 1 0 4]\n",
            " [1 2 2 1]]\n",
            "\n",
            "True Positives(TP) =  1\n",
            "\n",
            "True Negatives(TN) =  1\n",
            "\n",
            "False Positives(FP) =  4\n",
            "\n",
            "False Negatives(FN) =  0\n"
          ]
        }
      ]
    },
    {
      "cell_type": "code",
      "source": [
        "from sklearn.metrics import classification_report\n",
        "\n",
        "print(\"Using SVM\")\n",
        "print(classification_report(y_test, y_pred_test))"
      ],
      "metadata": {
        "colab": {
          "base_uri": "https://localhost:8080/"
        },
        "id": "rADeJrm1g5In",
        "outputId": "d1342337-1d3d-471b-a953-146eafd119cf"
      },
      "execution_count": null,
      "outputs": [
        {
          "output_type": "stream",
          "name": "stdout",
          "text": [
            "Using SVM\n",
            "              precision    recall  f1-score   support\n",
            "\n",
            "         Bed       0.25      0.10      0.14        10\n",
            "     Biscuit       0.12      0.11      0.12         9\n",
            "       Drink       0.00      0.00      0.00         7\n",
            "      Toilet       0.12      0.17      0.14         6\n",
            "\n",
            "    accuracy                           0.09        32\n",
            "   macro avg       0.12      0.09      0.10        32\n",
            "weighted avg       0.14      0.09      0.10        32\n",
            "\n"
          ]
        }
      ]
    },
    {
      "cell_type": "code",
      "source": [],
      "metadata": {
        "id": "0hqJyqvHhgtR"
      },
      "execution_count": null,
      "outputs": []
    }
  ],
  "metadata": {
    "colab": {
      "provenance": []
    },
    "kernelspec": {
      "display_name": "Python 3",
      "name": "python3"
    },
    "language_info": {
      "name": "python"
    }
  },
  "nbformat": 4,
  "nbformat_minor": 0
}